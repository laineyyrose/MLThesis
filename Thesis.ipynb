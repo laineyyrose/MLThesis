{
 "cells": [
  {
   "cell_type": "markdown",
   "metadata": {
    "tags": []
   },
   "source": [
    "# Thesis Work"
   ]
  },
  {
   "cell_type": "markdown",
   "metadata": {},
   "source": [
    "Import statements and defining functions:"
   ]
  },
  {
   "cell_type": "code",
   "execution_count": 1,
   "metadata": {
    "tags": []
   },
   "outputs": [],
   "source": [
    "from sklearn.feature_extraction import DictVectorizer\n",
    "from sklearn import svm\n",
    "from sklearn.metrics import accuracy_score\n",
    "from sklearn.model_selection import train_test_split\n",
    "from joblib import Memory\n",
    "from sklearn.datasets import load_svmlight_file\n",
    "import neptune\n",
    "import matplotlib.pyplot as plt\n",
    "import numpy as np\n",
    "import seaborn as sns\n",
    "from sklearn.linear_model import Perceptron\n",
    "from sklearn.utils import resample\n",
    "import random\n",
    "from sklearn.neural_network import MLPClassifier\n",
    "from sklearn.linear_model import SGDClassifier\n",
    "\n",
    "def warn(*args, **kwargs):\n",
    "    pass\n",
    "import warnings\n",
    "warnings.warn = warn\n",
    "\n",
    "def linetodict(line):\n",
    "    return dict(fvs.split(\":\") for fvs in line[2:].split())\n",
    "\n",
    "mem = Memory(\"./mycache\")\n",
    "\n",
    "@mem.cache\n",
    "def get_data(file_name):\n",
    "    data = load_svmlight_file(file_name)\n",
    "    return data[0], data[1]\n",
    "\n"
   ]
  },
  {
   "cell_type": "markdown",
   "metadata": {},
   "source": [
    "AddPerceptron to be used with Neptune:"
   ]
  },
  {
   "cell_type": "code",
   "execution_count": 2,
   "metadata": {
    "tags": []
   },
   "outputs": [],
   "source": [
    "class AddPerceptron_for_neptune:\n",
    "    \n",
    "    def __init__(self, **kwargs):\n",
    "        \"\"\"Olivia's additive Perceptron implemented through sklearn.\"\"\"\n",
    "        self.max_iter = kwargs.get('max_iter', 100) # Store passed max_iter since we rig it to 1\n",
    "        random.seed(a = kwargs.get('random_state', 42))\n",
    "        kwargs['max_iter'] = 1\n",
    "        self.epoch_size = kwargs.pop('epoch_size', 1.0)\n",
    "        self.clf = Perceptron(**kwargs)\n",
    "        \n",
    "    def _shuffler(self, X, y):\n",
    "        \"\"\"Resample part of data if epoch_size < 1.0.\"\"\"\n",
    "        if self.epoch_size < 1.0:\n",
    "            return resample(X, y, replace = False, n_samples = int(X.shape[0] * self.epoch_size))\n",
    "        return X, y\n",
    "    \n",
    "    # Change fit to pass more variables so that neptune would work properly\n",
    "    def fit(self, X, y, X_test=None, y_test=None, run=None, dataset_name=None):\n",
    "        self.clf.fit(*self._shuffler(X, y))\n",
    "        \n",
    "        # Added for neptune.ai\n",
    "        # Logs the accuracy scores of training and testing of intial run\n",
    "        train_acc = accuracy_score(y, self.predict(X))\n",
    "        test_acc = accuracy_score(y_test, self.predict(X_test))\n",
    "        run[f\"{dataset_name}/train/accuracy\"].append(train_acc)\n",
    "        run[f\"{dataset_name}/test/accuracy\"].append(test_acc)\n",
    "\n",
    "        for i in range(self.max_iter - 1):\n",
    "            clfp = Perceptron(max_iter = 1, random_state = random.randint(0,100000000))\n",
    "            clfp.fit(*self._shuffler(X, y))\n",
    "            clfpacc = accuracy_score(y_test, clfp.predict(X_test))\n",
    "            self.clf.coef_ += clfp.coef_\n",
    "            self.clf.intercept_ += clfp.intercept_\n",
    "            \n",
    "            # Added for neptune.ai\n",
    "            # Logs the accuracy scores of training and testing of each run after initial run\n",
    "            train_acc = accuracy_score(y, self.predict(X))\n",
    "            test_acc = accuracy_score(y_test, self.predict(X_test))\n",
    "            run[f\"{dataset_name}/train/accuracy\"].append(train_acc)\n",
    "            run[f\"{dataset_name}/test/accuracy\"].append(test_acc)\n",
    "            run[f\"{dataset_name}/individual_test/accuracy\"].append(clfpacc)\n",
    "        \n",
    "  \n",
    "\n",
    "\n",
    "    def predict(self, X):\n",
    "        return self.clf.predict(X)\n",
    "\n",
    "    def score(self, *args, **kwargs):\n",
    "        return self.clf.score(*args, **kwargs)\n",
    "    \n",
    "    "
   ]
  },
  {
   "cell_type": "markdown",
   "metadata": {},
   "source": [
    "Function to evaluate the add perceptron and plot it in neptune:"
   ]
  },
  {
   "cell_type": "code",
   "execution_count": 3,
   "metadata": {
    "tags": []
   },
   "outputs": [],
   "source": [
    "def evaluate_addperceptron(train_data, test_data, dataset_name):\n",
    "    # New neptune run with unique name for each data set\n",
    "    run = neptune.init_run(\n",
    "        project=\"lmrose5522/Perceptron-Training\",\n",
    "        api_token=\"eyJhcGlfYWRkcmVzcyI6Imh0dHBzOi8vYXBwLm5lcHR1bmUuYWkiLCJhcGlfdXJsIjoiaHR0cHM6Ly9hcHAubmVwdHVuZS5haSIsImFwaV9rZXkiOiI0ODVlOTUzYS02NGNhLTQ5YTQtOWM3Ny1kZGY2OWEzZWQ4YzMifQ==\",\n",
    "    )\n",
    "    \n",
    "    # Get the data and separate for training and testing data\n",
    "    lines = [l.strip() for l in open(train_data)]\n",
    "    examples = [linetodict(l) for l in lines]\n",
    "    y_train = [l[0] for l in lines]\n",
    "\n",
    "    lines = [l.strip() for l in open(test_data)]\n",
    "    examples_test = [linetodict(l) for l in lines]\n",
    "    y_test = [l[0] for l in lines]\n",
    "    \n",
    "    # Initialize vectorizer and transform the data\n",
    "    vectorizer = DictVectorizer(sparse=True)\n",
    "    X_train = vectorizer.fit_transform(examples)\n",
    "    X_test = vectorizer.transform(examples_test)\n",
    "    \n",
    "    # Initialize and train the AddPerceptron model\n",
    "    clf = AddPerceptron_for_neptune()  \n",
    "    clf.fit(X_train, y_train, X_test, y_test, run, dataset_name)  \n",
    "\n",
    "    # Final accuracy on test data\n",
    "    guesses = clf.predict(X_test)\n",
    "    accuracy = accuracy_score(y_test, guesses)\n",
    "    print(f\"Final Test Accuracy for {dataset_name}:\", accuracy)\n",
    "    \n",
    "    # Log accuracy score for neptune to plot\n",
    "    run[f\"{dataset_name}/metrics/final_test_accuracy\"] = accuracy\n",
    "    \n",
    "    run.stop()"
   ]
  },
  {
   "cell_type": "markdown",
   "metadata": {},
   "source": [
    "Function to evaluate the add perceptron and plot it in neptune with only one data set file:"
   ]
  },
  {
   "cell_type": "code",
   "execution_count": 4,
   "metadata": {
    "tags": []
   },
   "outputs": [],
   "source": [
    "def evaluate_addperceptron_2(data, dataset_name):\n",
    "    # New neptune run with unique name for each data set\n",
    "    run = neptune.init_run(\n",
    "        project=\"lmrose5522/Perceptron-Training\",\n",
    "        api_token=\"eyJhcGlfYWRkcmVzcyI6Imh0dHBzOi8vYXBwLm5lcHR1bmUuYWkiLCJhcGlfdXJsIjoiaHR0cHM6Ly9hcHAubmVwdHVuZS5haSIsImFwaV9rZXkiOiI0ODVlOTUzYS02NGNhLTQ5YTQtOWM3Ny1kZGY2OWEzZWQ4YzMifQ==\",\n",
    "        name=dataset_name\n",
    "    )\n",
    "    \n",
    "    # Get the data and separate for training and testing data\n",
    "    lines = [l.strip() for l in open(data)]\n",
    "    examples = [linetodict(l) for l in lines]\n",
    "    y = [l[0] for l in lines] \n",
    "\n",
    "    vectorizer = DictVectorizer(sparse=True)\n",
    "    X = vectorizer.fit_transform(examples) \n",
    "    \n",
    "    X_train, X_test, y_train, y_test = train_test_split(X, y, test_size=0.2, random_state=42)\n",
    "    \n",
    "    # Initialize and train the AddPerceptron model\n",
    "    clf = AddPerceptron()  \n",
    "    clf.fit(X_train, y_train, X_test, y_test, run, dataset_name)  \n",
    "\n",
    "    # Final accuracy on test data\n",
    "    guesses = clf.predict(X_test)\n",
    "    accuracy = accuracy_score(y_test, guesses)\n",
    "    print(f\"Final Test Accuracy for {dataset_name}:\", accuracy)\n",
    "    \n",
    "    # Log accuracy score for neptune to plot\n",
    "    run[f\"{dataset_name}/metrics/final_test_accuracy\"] = accuracy\n",
    "    \n",
    "    run.stop()"
   ]
  },
  {
   "cell_type": "markdown",
   "metadata": {},
   "source": [
    "Original Add Perceptron implementation:"
   ]
  },
  {
   "cell_type": "code",
   "execution_count": 5,
   "metadata": {
    "tags": []
   },
   "outputs": [],
   "source": [
    "class AddPerceptron:\n",
    "    \n",
    "    def __init__(self, **kwargs):\n",
    "        \"\"\"Olivia's additive Perceptron implemented through sklearn.\"\"\"\n",
    "        self.max_iter = kwargs.get('max_iter', 100) # Store passed max_iter since we rig it to 1\n",
    "        random.seed(a = kwargs.get('random_state', 42))\n",
    "        kwargs['max_iter'] = 1\n",
    "        self.epoch_size = kwargs.pop('epoch_size', 1.0)\n",
    "        self.clf = Perceptron(**kwargs)\n",
    "        \n",
    "    def _shuffler(self, X, y):\n",
    "        \"\"\"Resample part of data if epoch_size < 1.0.\"\"\"\n",
    "        if self.epoch_size < 1.0:\n",
    "            return resample(X, y, replace = False, n_samples = int(X.shape[0] * self.epoch_size))\n",
    "        return X, y\n",
    "    \n",
    "    # Change fit to pass more variables so that neptune would work properly\n",
    "    def fit(self, X, y, X_test=None, y_test=None, run=None, dataset_name=None):\n",
    "        self.clf.fit(*self._shuffler(X, y))\n",
    "\n",
    "        for i in range(self.max_iter - 1):\n",
    "            clfp = Perceptron(max_iter = 1, random_state = random.randint(0,100000000))\n",
    "            clfp.fit(*self._shuffler(X, y))\n",
    "            self.clf.coef_ += clfp.coef_\n",
    "            self.clf.intercept_ += clfp.intercept_\n",
    "\n",
    "\n",
    "\n",
    "    def predict(self, X):\n",
    "        return self.clf.predict(X)\n",
    "\n",
    "    def score(self, *args, **kwargs):\n",
    "        return self.clf.score(*args, **kwargs)\n",
    "    \n",
    "    "
   ]
  },
  {
   "cell_type": "markdown",
   "metadata": {},
   "source": [
    "Updated Add Perceptron for plotting in seaborn:"
   ]
  },
  {
   "cell_type": "code",
   "execution_count": 6,
   "metadata": {
    "tags": []
   },
   "outputs": [],
   "source": [
    "class AddPerceptron:\n",
    "    \n",
    "    def __init__(self, **kwargs):\n",
    "        \"\"\"Olivia's additive Perceptron implemented through sklearn.\"\"\"\n",
    "        self.max_iter = kwargs.get('max_iter', 100) # Store passed max_iter since we rig it to 1\n",
    "        random.seed(a = kwargs.get('random_state', 42))\n",
    "        kwargs['max_iter'] = 1\n",
    "        self.epoch_size = kwargs.pop('epoch_size', 1.0)\n",
    "        self.clf = Perceptron(**kwargs)\n",
    "        self.train_accuracies = []  # Store training accuracies for each epoch\n",
    "        self.test_accuracies = []   # Store test accuracies for each epoch\n",
    "        \n",
    "        \n",
    "    def _shuffler(self, X, y):\n",
    "        \"\"\"Resample part of data if epoch_size < 1.0.\"\"\"\n",
    "        if self.epoch_size < 1.0:\n",
    "            return resample(X, y, replace = False, n_samples = int(X.shape[0] * self.epoch_size))\n",
    "        return X, y\n",
    "    \n",
    "    # Change fit to pass more variables so that neptune would work properly\n",
    "    def fit(self, X, y, X_test=None, y_test=None, run=None, dataset_name=None):\n",
    "        self.clf.fit(*self._shuffler(X, y))\n",
    "        \n",
    "        train_acc = accuracy_score(y, self.predict(X))\n",
    "        self.train_accuracies.append(train_acc)\n",
    "        \n",
    "        if X_test is not None and y_test is not None:\n",
    "            test_acc = accuracy_score(y_test, self.predict(X_test))\n",
    "            self.test_accuracies.append(test_acc)\n",
    "\n",
    "        for i in range(self.max_iter - 1):\n",
    "            clfp = Perceptron(max_iter=1, random_state=random.randint(0, 100000000))\n",
    "            clfp.fit(*self._shuffler(X, y))\n",
    "            self.clf.coef_ += clfp.coef_\n",
    "            self.clf.intercept_ += clfp.intercept_\n",
    "            \n",
    "            # Log the accuracy scores for each epoch\n",
    "            train_acc = accuracy_score(y, self.predict(X))\n",
    "            self.train_accuracies.append(train_acc)\n",
    "            \n",
    "            if X_test is not None and y_test is not None:\n",
    "                test_acc = accuracy_score(y_test, self.predict(X_test))\n",
    "                self.test_accuracies.append(test_acc)\n",
    "\n",
    "\n",
    "\n",
    "    def predict(self, X):\n",
    "        return self.clf.predict(X)\n",
    "\n",
    "    def score(self, *args, **kwargs):\n",
    "        return self.clf.score(*args, **kwargs)\n",
    "    \n",
    "    "
   ]
  },
  {
   "cell_type": "markdown",
   "metadata": {},
   "source": [
    "AddSVM (for plotting in seaborn):"
   ]
  },
  {
   "cell_type": "code",
   "execution_count": 7,
   "metadata": {
    "tags": []
   },
   "outputs": [],
   "source": [
    "class AddSVM:\n",
    "    \n",
    "    def __init__(self, **kwargs):\n",
    "        self.max_iter = kwargs.get('max_iter', 100) # Store passed max_iter since we rig it to 1\n",
    "        random.seed(a = kwargs.get('random_state', 42))\n",
    "        kwargs['max_iter'] = 1\n",
    "        self.epoch_size = kwargs.pop('epoch_size', 1.0)\n",
    "        self.clf = Perceptron(**kwargs)\n",
    "        self.train_accuracies = []  # Store training accuracies for each epoch\n",
    "        self.test_accuracies = []   # Store test accuracies for each epoch\n",
    "        \n",
    "        \n",
    "    def _shuffler(self, X, y):\n",
    "        \"\"\"Resample part of data if epoch_size < 1.0.\"\"\"\n",
    "        if self.epoch_size < 1.0:\n",
    "            return resample(X, y, replace = False, n_samples = int(X.shape[0] * self.epoch_size))\n",
    "        return X, y\n",
    "    \n",
    "    # Change fit to pass more variables so that neptune would work properly\n",
    "    def fit(self, X, y, X_test=None, y_test=None, run=None, dataset_name=None):\n",
    "        self.clf.fit(*self._shuffler(X, y))\n",
    "        \n",
    "        train_acc = accuracy_score(y, self.predict(X))\n",
    "        self.train_accuracies.append(train_acc)\n",
    "        \n",
    "        if X_test is not None and y_test is not None:\n",
    "            test_acc = accuracy_score(y_test, self.predict(X_test))\n",
    "            self.test_accuracies.append(test_acc)\n",
    "\n",
    "        for i in range(self.max_iter - 1):\n",
    "            clfp = svm.LinearSVC(max_iter=1, random_state=random.randint(0, 100000000))\n",
    "            clfp.fit(*self._shuffler(X, y))\n",
    "            self.clf.coef_ += clfp.coef_\n",
    "            self.clf.intercept_ += clfp.intercept_\n",
    "            \n",
    "            # Log the accuracy scores for each epoch\n",
    "            train_acc = accuracy_score(y, self.predict(X))\n",
    "            self.train_accuracies.append(train_acc)\n",
    "            \n",
    "            if X_test is not None and y_test is not None:\n",
    "                test_acc = accuracy_score(y_test, self.predict(X_test))\n",
    "                self.test_accuracies.append(test_acc)\n",
    "\n",
    "\n",
    "\n",
    "    def predict(self, X):\n",
    "        return self.clf.predict(X)\n",
    "\n",
    "    def score(self, *args, **kwargs):\n",
    "        return self.clf.score(*args, **kwargs)\n",
    "    \n",
    "    "
   ]
  },
  {
   "cell_type": "markdown",
   "metadata": {},
   "source": [
    "AddLogRegression (for plotting in seaborn):"
   ]
  },
  {
   "cell_type": "code",
   "execution_count": 8,
   "metadata": {
    "tags": []
   },
   "outputs": [],
   "source": [
    "class AddLogRegression:\n",
    "    \n",
    "    def __init__(self, **kwargs):\n",
    "        self.max_iter = kwargs.get('max_iter', 100) # Store passed max_iter since we rig it to 1\n",
    "        random.seed(a = kwargs.get('random_state', 42))\n",
    "        kwargs['max_iter'] = 1\n",
    "        self.epoch_size = kwargs.pop('epoch_size', 1.0)\n",
    "        self.clf = Perceptron(**kwargs)\n",
    "        self.train_accuracies = []  # Store training accuracies for each epoch\n",
    "        self.test_accuracies = []   # Store test accuracies for each epoch\n",
    "        \n",
    "        \n",
    "    def _shuffler(self, X, y):\n",
    "        \"\"\"Resample part of data if epoch_size < 1.0.\"\"\"\n",
    "        if self.epoch_size < 1.0:\n",
    "            return resample(X, y, replace = False, n_samples = int(X.shape[0] * self.epoch_size))\n",
    "        return X, y\n",
    "    \n",
    "    # Change fit to pass more variables so that neptune would work properly\n",
    "    def fit(self, X, y, X_test=None, y_test=None, run=None, dataset_name=None):\n",
    "        self.clf.fit(*self._shuffler(X, y))\n",
    "        \n",
    "        train_acc = accuracy_score(y, self.predict(X))\n",
    "        self.train_accuracies.append(train_acc)\n",
    "        \n",
    "        if X_test is not None and y_test is not None:\n",
    "            test_acc = accuracy_score(y_test, self.predict(X_test))\n",
    "            self.test_accuracies.append(test_acc)\n",
    "\n",
    "        for i in range(self.max_iter - 1):\n",
    "            clfp = SGDClassifier(loss='log_loss',penalty=None,max_iter=1, random_state=random.randint(0, 100000000))\n",
    "            clfp.fit(*self._shuffler(X, y))\n",
    "            self.clf.coef_ += clfp.coef_\n",
    "            self.clf.intercept_ += clfp.intercept_\n",
    "            \n",
    "            # Log the accuracy scores for each epoch\n",
    "            train_acc = accuracy_score(y, self.predict(X))\n",
    "            self.train_accuracies.append(train_acc)\n",
    "            \n",
    "            if X_test is not None and y_test is not None:\n",
    "                test_acc = accuracy_score(y_test, self.predict(X_test))\n",
    "                self.test_accuracies.append(test_acc)\n",
    "\n",
    "\n",
    "\n",
    "    def predict(self, X):\n",
    "        return self.clf.predict(X)\n",
    "\n",
    "    def score(self, *args, **kwargs):\n",
    "        return self.clf.score(*args, **kwargs)\n",
    "    \n",
    "    "
   ]
  },
  {
   "cell_type": "markdown",
   "metadata": {
    "tags": []
   },
   "source": [
    "AddNeuralNetwork:"
   ]
  },
  {
   "cell_type": "code",
   "execution_count": 9,
   "metadata": {
    "tags": []
   },
   "outputs": [],
   "source": [
    "class AddMLPClassifier:\n",
    "    \n",
    "    def __init__(self, **kwargs):\n",
    "        self.max_iter = kwargs.get('max_iter', 100) # Store passed max_iter since we rig it to 1\n",
    "        random.seed(a = kwargs.get('random_state', 42))\n",
    "        kwargs['max_iter'] = 1\n",
    "        self.epoch_size = kwargs.pop('epoch_size', 1.0)\n",
    "        self.clf = MLPClassifier(**kwargs)\n",
    "        \n",
    "    def _shuffler(self, X, y):\n",
    "        \"\"\"Resample part of data if epoch_size < 1.0.\"\"\"\n",
    "        if self.epoch_size < 1.0:\n",
    "            return resample(X, y, replace = False, n_samples = int(X.shape[0] * self.epoch_size))\n",
    "        return X, y\n",
    "    \n",
    "    def fit(self, X, y):\n",
    "        self.clf.fit(X, y)\n",
    "        self.N = 2\n",
    "        for i in range(self.max_iter - 1):\n",
    "            clfp = MLPClassifier(max_iter = 1, random_state = i, hidden_layer_sizes=(100,50))\n",
    "            clfp.fit(*self._shuffler(X, y))\n",
    "            for j in range(len(self.clf.coefs_)):\n",
    "                self.clf.coefs_[j] += (clfp.coefs_[j] - self.clf.coefs_[j]) / (self.N)\n",
    "                self.clf.intercepts_[j] += (clfp.intercepts_[j] - self.clf.intercepts_[j]) / (self.N)\n",
    "                x = 2\n",
    "            self.N += 1\n",
    "\n",
    "    def predict(self, X):\n",
    "        return self.clf.predict(X)\n",
    "\n",
    "    def score(self, *args, **kwargs):\n",
    "        return self.clf.score(*args, **kwargs)\n",
    "    \n",
    "    \n",
    "    "
   ]
  },
  {
   "cell_type": "markdown",
   "metadata": {
    "tags": []
   },
   "source": [
    "AddNueralNetwork for plotting in neptune"
   ]
  },
  {
   "cell_type": "code",
   "execution_count": 10,
   "metadata": {
    "tags": []
   },
   "outputs": [],
   "source": [
    "class AddMLPClassifier_for_neptune:\n",
    "    \n",
    "    def __init__(self, **kwargs):\n",
    "        self.max_iter = kwargs.get('max_iter', 100) # Store passed max_iter since we rig it to 1\n",
    "        random.seed(a = kwargs.get('random_state', 42))\n",
    "        kwargs['max_iter'] = 1\n",
    "        self.epoch_size = kwargs.pop('epoch_size', 1.0)\n",
    "        self.clf = MLPClassifier(**kwargs)\n",
    "        \n",
    "    def _shuffler(self, X, y):\n",
    "        \"\"\"Resample part of data if epoch_size < 1.0.\"\"\"\n",
    "        if self.epoch_size < 1.0:\n",
    "            return resample(X, y, replace = False, n_samples = int(X.shape[0] * self.epoch_size))\n",
    "        return X, y\n",
    "    \n",
    "    def fit(self, X, y, X_test=None, y_test=None, run=None, dataset_name=None):\n",
    "        self.clf.fit(X, y)\n",
    "        self.N = 2\n",
    "        \n",
    "        # Added for neptune.ai\n",
    "        # Logs the accuracy scores of training and testing of intial run\n",
    "        train_acc = accuracy_score(y, self.predict(X))\n",
    "        test_acc = accuracy_score(y_test, self.predict(X_test))\n",
    "        run[f\"{dataset_name}/train/accuracy\"].append(train_acc)\n",
    "        run[f\"{dataset_name}/test/accuracy\"].append(test_acc)\n",
    "        \n",
    "        for i in range(self.max_iter - 1):\n",
    "            clfp = MLPClassifier(max_iter = 1, random_state = i, hidden_layer_sizes=(100,50))\n",
    "            clfp.fit(*self._shuffler(X, y))\n",
    "            clfpacc = accuracy_score(y_test, clfp.predict(X_test))\n",
    "            for j in range(len(self.clf.coefs_)):\n",
    "                self.clf.coefs_[j] += (clfp.coefs_[j] - self.clf.coefs_[j]) / (self.N)\n",
    "                self.clf.intercepts_[j] += (clfp.intercepts_[j] - self.clf.intercepts_[j]) / (self.N)\n",
    "                x = 2\n",
    "            self.N += 1\n",
    "            \n",
    "            # Added for neptune.ai\n",
    "            # Logs the accuracy scores of training and testing of each run after initial run\n",
    "            train_acc = accuracy_score(y, self.predict(X))\n",
    "            test_acc = accuracy_score(y_test, self.predict(X_test))\n",
    "            run[f\"{dataset_name}/train/accuracy\"].append(train_acc)\n",
    "            run[f\"{dataset_name}/test/accuracy\"].append(test_acc)\n",
    "            run[f\"{dataset_name}/individual_test/accuracy\"].append(clfpacc)\n",
    "\n",
    "    def predict(self, X):\n",
    "        return self.clf.predict(X)\n",
    "\n",
    "    def score(self, *args, **kwargs):\n",
    "        return self.clf.score(*args, **kwargs)\n",
    "    \n",
    "    \n",
    "    "
   ]
  },
  {
   "cell_type": "markdown",
   "metadata": {},
   "source": [
    "Function for plotting neural network in Neptune"
   ]
  },
  {
   "cell_type": "code",
   "execution_count": 11,
   "metadata": {
    "tags": []
   },
   "outputs": [],
   "source": [
    "def evaluate_addmlp(train_data, test_data, dataset_name):\n",
    "    # New neptune run with unique name for each data set\n",
    "    run = neptune.init_run(\n",
    "        project=\"lmrose5522/Perceptron-Training\",\n",
    "        api_token=\"eyJhcGlfYWRkcmVzcyI6Imh0dHBzOi8vYXBwLm5lcHR1bmUuYWkiLCJhcGlfdXJsIjoiaHR0cHM6Ly9hcHAubmVwdHVuZS5haSIsImFwaV9rZXkiOiI0ODVlOTUzYS02NGNhLTQ5YTQtOWM3Ny1kZGY2OWEzZWQ4YzMifQ==\",\n",
    "    )\n",
    "    \n",
    "    # Get the data and separate for training and testing data\n",
    "    lines = [l.strip() for l in open(train_data)]\n",
    "    examples = [linetodict(l) for l in lines]\n",
    "    y_train = [l[0] for l in lines]\n",
    "\n",
    "    lines = [l.strip() for l in open(test_data)]\n",
    "    examples_test = [linetodict(l) for l in lines]\n",
    "    y_test = [l[0] for l in lines]\n",
    "    \n",
    "    # Initialize vectorizer and transform the data\n",
    "    vectorizer = DictVectorizer(sparse=True)\n",
    "    X_train = vectorizer.fit_transform(examples)\n",
    "    X_test = vectorizer.transform(examples_test)\n",
    "    \n",
    "    # Initialize and train the AddPerceptron model\n",
    "    clf = AddMLPClassifier_for_neptune(hidden_layer_sizes=(100,50))  \n",
    "    clf.fit(X_train, y_train, X_test, y_test, run, dataset_name)  \n",
    "\n",
    "    # Final accuracy on test data\n",
    "    guesses = clf.predict(X_test)\n",
    "    accuracy = accuracy_score(y_test, guesses)\n",
    "    print(f\"Final Test Accuracy for {dataset_name}:\", accuracy)\n",
    "    \n",
    "    # Log accuracy score for neptune to plot\n",
    "    run[f\"{dataset_name}/metrics/final_test_accuracy\"] = accuracy\n",
    "    \n",
    "    run.stop()"
   ]
  },
  {
   "cell_type": "markdown",
   "metadata": {},
   "source": [
    "Function for plotting neural network in Neptune with only one data set file:"
   ]
  },
  {
   "cell_type": "code",
   "execution_count": 12,
   "metadata": {
    "tags": []
   },
   "outputs": [],
   "source": [
    "def evaluate_addmlp_2(data, dataset_name):\n",
    "    # New neptune run with unique name for each data set\n",
    "    run = neptune.init_run(\n",
    "        project=\"lmrose5522/Perceptron-Training\",\n",
    "        api_token=\"eyJhcGlfYWRkcmVzcyI6Imh0dHBzOi8vYXBwLm5lcHR1bmUuYWkiLCJhcGlfdXJsIjoiaHR0cHM6Ly9hcHAubmVwdHVuZS5haSIsImFwaV9rZXkiOiI0ODVlOTUzYS02NGNhLTQ5YTQtOWM3Ny1kZGY2OWEzZWQ4YzMifQ==\",\n",
    "        name=dataset_name\n",
    "    )\n",
    "    \n",
    "    # Get the data and separate for training and testing data\n",
    "    lines = [l.strip() for l in open(data)]\n",
    "    examples = [linetodict(l) for l in lines]\n",
    "    y = [l[0] for l in lines] \n",
    "\n",
    "    vectorizer = DictVectorizer(sparse=True)\n",
    "    X = vectorizer.fit_transform(examples) \n",
    "    \n",
    "    X_train, X_test, y_train, y_test = train_test_split(X, y, test_size=0.2, random_state=42)\n",
    "    \n",
    "    # Initialize and train the AddPerceptron model\n",
    "    clf = AddMLPClassifier_for_neptune(hidden_layer_sizes=(100,50))  \n",
    "    clf.fit(X_train, y_train, X_test, y_test, run, dataset_name)  \n",
    "\n",
    "    # Final accuracy on test data\n",
    "    guesses = clf.predict(X_test)\n",
    "    accuracy = accuracy_score(y_test, guesses)\n",
    "    print(f\"Final Test Accuracy for {dataset_name}:\", accuracy)\n",
    "    \n",
    "    # Log accuracy score for neptune to plot\n",
    "    run[f\"{dataset_name}/metrics/final_test_accuracy\"] = accuracy\n",
    "    \n",
    "    run.stop()"
   ]
  },
  {
   "cell_type": "markdown",
   "metadata": {
    "tags": []
   },
   "source": [
    "Extra code might delete:"
   ]
  },
  {
   "cell_type": "code",
   "execution_count": null,
   "metadata": {},
   "outputs": [],
   "source": [
    "from sklearn.metrics import accuracy_score\n",
    "from sklearn.model_selection import train_test_split\n",
    "\n",
    "run = neptune.init_run(\n",
    "        project=\"lmrose5522/Perceptron-Training\",\n",
    "        api_token=\"eyJhcGlfYWRkcmVzcyI6Imh0dHBzOi8vYXBwLm5lcHR1bmUuYWkiLCJhcGlfdXJsIjoiaHR0cHM6Ly9hcHAubmVwdHVuZS5haSIsImFwaV9rZXkiOiI0ODVlOTUzYS02NGNhLTQ5YTQtOWM3Ny1kZGY2OWEzZWQ4YzMifQ==\",\n",
    "        name=\"news20_svm\"\n",
    "    )\n",
    "\n",
    "run[\"model/parameters\"] = {\"classifier\": \"LinearSVC\"}\n",
    "\n",
    "lines = [l.strip() for l in open('news20.binary')] \n",
    "examples = [linetodict(l) for l in lines]\n",
    "y = [0 if int(l[:2]) == -1 else int(l[:2]) for l in lines]  \n",
    "\n",
    "vectorizer = DictVectorizer(sparse = True) # Initialize vectorizer\n",
    "X = vectorizer.fit_transform(examples)     # Transform dicts to feature vectors\n",
    "X_train, X_test, y_train, y_test = train_test_split(X, y, test_size=0.2, random_state=42)\n",
    "\n",
    "clf = svm.LinearSVC()\n",
    "\n",
    "epochs = 100\n",
    "for epoch in range(epochs):\n",
    "    clf.fit(X_train, y_train)\n",
    "    train_guesses = clf.predict(X)\n",
    "    train_correct = sum(gu == go for gu, go in zip(train_guesses, y))\n",
    "    train_acc = train_correct / len(y)\n",
    "\n",
    "    run[f\"train/epoch_{epoch + 1}/accuracy\"] = train_acc\n",
    "\n",
    "\n",
    "run[\"model/training\"] = \"completed\"\n",
    "\n",
    "print(\"Accuracy:\", accuracy_score(y_test, clf.predict(X_test)))\n",
    "run[\"metrics/accuracy\"] = accuracy\n",
    "print(\"Accuracy:\", accuracy)\n",
    "\n",
    "run.stop()"
   ]
  },
  {
   "cell_type": "code",
   "execution_count": null,
   "metadata": {},
   "outputs": [],
   "source": [
    "lines = [l.strip() for l in open('news20.binary')]\n",
    "examples = [linetodict(l) for l in lines]\n",
    "y = [l[0] for l in lines] \n",
    "\n",
    "vectorizer = DictVectorizer(sparse=True)\n",
    "X = vectorizer.fit_transform(examples) \n",
    "\n",
    "# Perform 80-20 split for training and testing\n",
    "X_train, X_test, y_train, y_test = train_test_split(X, y, test_size=0.2, random_state=42)\n",
    "\n",
    "clf = Perceptron(max_iter = 1)\n",
    "clf.fit(X_train, y_train)\n",
    "\n",
    "numiter = 500\n",
    "for i in range(numiter):\n",
    "    clfp = Perceptron(random_state = i, max_iter = 1)\n",
    "    clfp.fit(X_train, y_train)\n",
    "    clfpacc = accuracy_score(y_test, clfp.predict(X_test))\n",
    "    clf.coef_ += clfp.coef_ \n",
    "    clf.intercept_ += clfp.intercept_\n",
    "    #print(i, \"Accuracy (cumul. ensemble, single model):\", accuracy_score(y_test, clf.predict(X_test)), clfpacc)\n",
    "    \n",
    "### Run a Perceptron and SVM normally until convergence ###\n",
    "clfP = Perceptron()\n",
    "clfP.fit(X_train, y_train)\n",
    "print(\"Regular Perceptron accuracy:\", accuracy_score(y_test, clfP.predict(X_test)))\n",
    "\n",
    "clfS = svm.LinearSVC()\n",
    "clfS.fit(X_train, y_train)\n",
    "print(\"Regular SVM accuracy:\", accuracy_score(y_test, clfS.predict(X_test)))"
   ]
  },
  {
   "cell_type": "code",
   "execution_count": null,
   "metadata": {},
   "outputs": [],
   "source": [
    "def evaluate_addperceptron_2(train_data, test_data, dataset_name):\n",
    "    # New neptune run with unique name for each data set\n",
    "    run = neptune.init_run(\n",
    "        project=\"lmrose5522/Perceptron-Training\",\n",
    "        api_token=\"eyJhcGlfYWRkcmVzcyI6Imh0dHBzOi8vYXBwLm5lcHR1bmUuYWkiLCJhcGlfdXJsIjoiaHR0cHM6Ly9hcHAubmVwdHVuZS5haSIsImFwaV9rZXkiOiI0ODVlOTUzYS02NGNhLTQ5YTQtOWM3Ny1kZGY2OWEzZWQ4YzMifQ==\",\n",
    "    )\n",
    "    \n",
    "    def load_svmlib_file(filename, featfunc = lambda x: x, classfunc = lambda x: x):\n",
    "        \"\"\"Loads SVMLIB format file and modifies classes or feature values.\n",
    "           Can't use sklearn.datasets.load_svmlight_file since it has no callbacks.\"\"\"\n",
    "        lines = [l.strip().split() for l in open(filename)]\n",
    "        Xs = [{int(fvs.split(\":\")[0]):featfunc(int(fvs.split(\":\")[1])) for fvs in line[1:]} for line in lines]\n",
    "        ys = [classfunc(int(l[0])) for l in lines]\n",
    "        return Xs, ys\n",
    "\n",
    "    # In IMDB task, class > 4 is considered positive, <= 4 negative\n",
    "    trainXs, trainy = load_svmlib_file(\"train/labeledBow.feat\", featfunc = lambda x: 1 if x > 0 else 0, \\\n",
    "                              classfunc = lambda x: 1 if x > 4 else 0)\n",
    "    vectorizer = DictVectorizer(sparse = True) # Initialize vectorizer\n",
    "\n",
    "    trainX = vectorizer.fit_transform(trainXs) # Transform dicts to feature vectors\n",
    "    testXs, testy = load_svmlib_file(\"test/labeledBow.feat\", featfunc = lambda x: 1 if x > 0 else 0,\\\n",
    "                                     classfunc = lambda x: 1 if x > 4 else 0)\n",
    "    testX = vectorizer.transform(testXs)\n",
    "    \n",
    "    # Initialize and train the AddPerceptron model\n",
    "    clf = AddPerceptron_for_neptune()  \n",
    "    clf.fit(trainX, trainy, testX, testy, run, dataset_name)  \n",
    "\n",
    "    clf = Perceptron()                      \n",
    "    clf.fit(trainX, trainy)                              \n",
    "\n",
    "\n",
    "    guesses = clf.predict(testX)\n",
    "    accuracy = accuracy_score(testy, guesses)\n",
    "    print(\"Accuracy:\", accuracy)\n",
    "    \n",
    "    # Log accuracy score for neptune to plot\n",
    "    run[f\"{dataset_name}/metrics/final_test_accuracy\"] = accuracy\n",
    "    \n",
    "    run.stop()"
   ]
  },
  {
   "cell_type": "markdown",
   "metadata": {},
   "source": [
    "# Restaurant Dataset"
   ]
  },
  {
   "cell_type": "markdown",
   "metadata": {},
   "source": [
    "Load the data and organize it by test and train:"
   ]
  },
  {
   "cell_type": "code",
   "execution_count": 13,
   "metadata": {
    "tags": []
   },
   "outputs": [],
   "source": [
    "lines_train = [l.strip() for l in open(\"hw3data/restaurant_train.txt\")]\n",
    "examples = [linetodict(l) for l in lines_train]\n",
    "y_train = [int(l[0]) for l in lines_train]\n",
    "\n",
    "vectorizer = DictVectorizer(sparse = True) \n",
    "X_train = vectorizer.fit_transform(examples)   \n",
    "\n",
    "lines_test = [l.strip() for l in open(\"hw3data/restaurant_test.txt\")]\n",
    "\n",
    "X_test = [linetodict(l) for l in lines_test]\n",
    "y_test = [int(l[0]) for l in lines_test]"
   ]
  },
  {
   "cell_type": "markdown",
   "metadata": {},
   "source": [
    "Normal SVM:"
   ]
  },
  {
   "cell_type": "code",
   "execution_count": 14,
   "metadata": {
    "tags": []
   },
   "outputs": [
    {
     "name": "stdout",
     "output_type": "stream",
     "text": [
      "Classification accuracy: 0.902\n"
     ]
    }
   ],
   "source": [
    "clfs = svm.LinearSVC() \n",
    "clfs.fit(X_train, y_train)                \n",
    "\n",
    "print(\"Classification accuracy:\", accuracy_score(y_test, clfs.predict(vectorizer.transform(X_test))))"
   ]
  },
  {
   "cell_type": "markdown",
   "metadata": {
    "tags": []
   },
   "source": [
    "AddSVM:"
   ]
  },
  {
   "cell_type": "code",
   "execution_count": 15,
   "metadata": {
    "tags": []
   },
   "outputs": [
    {
     "name": "stdout",
     "output_type": "stream",
     "text": [
      "Classification accuracy: 0.91\n"
     ]
    }
   ],
   "source": [
    "clfv = AddSVM() \n",
    "clfv.fit(X_train, y_train)                \n",
    "\n",
    "print(\"Classification accuracy:\", accuracy_score(y_test, clfv.predict(vectorizer.transform(X_test))))"
   ]
  },
  {
   "cell_type": "markdown",
   "metadata": {},
   "source": [
    "SVM using SGDClassifier:"
   ]
  },
  {
   "cell_type": "code",
   "execution_count": 16,
   "metadata": {
    "tags": []
   },
   "outputs": [
    {
     "name": "stdout",
     "output_type": "stream",
     "text": [
      "Classification accuracy: 0.896\n"
     ]
    }
   ],
   "source": [
    "clfg = SGDClassifier(loss='hinge', penalty=None) \n",
    "clfg.fit(X_train, y_train)                \n",
    "\n",
    "print(\"Classification accuracy:\", accuracy_score(y_test, clfg.predict(vectorizer.transform(X_test))))"
   ]
  },
  {
   "cell_type": "markdown",
   "metadata": {},
   "source": [
    "Normal Logistic Regression:"
   ]
  },
  {
   "cell_type": "code",
   "execution_count": 17,
   "metadata": {
    "tags": []
   },
   "outputs": [
    {
     "name": "stdout",
     "output_type": "stream",
     "text": [
      "Classification accuracy: 0.908\n"
     ]
    }
   ],
   "source": [
    "clfl = SGDClassifier(loss='log_loss', penalty=None) \n",
    "clfl.fit(X_train, y_train)                \n",
    "\n",
    "print(\"Classification accuracy:\", accuracy_score(y_test, clfl.predict(vectorizer.transform(X_test))))"
   ]
  },
  {
   "cell_type": "markdown",
   "metadata": {},
   "source": [
    "AddLogRegression:"
   ]
  },
  {
   "cell_type": "code",
   "execution_count": 18,
   "metadata": {
    "tags": []
   },
   "outputs": [
    {
     "name": "stdout",
     "output_type": "stream",
     "text": [
      "Classification accuracy: 0.93\n"
     ]
    }
   ],
   "source": [
    "clfr = AddLogRegression() \n",
    "clfr.fit(X_train, y_train)                \n",
    "\n",
    "print(\"Classification accuracy:\", accuracy_score(y_test, clfr.predict(vectorizer.transform(X_test))))"
   ]
  },
  {
   "cell_type": "markdown",
   "metadata": {
    "tags": []
   },
   "source": [
    "Normal Perceptron:"
   ]
  },
  {
   "cell_type": "code",
   "execution_count": 19,
   "metadata": {
    "tags": []
   },
   "outputs": [
    {
     "name": "stdout",
     "output_type": "stream",
     "text": [
      "Classification accuracy: 0.902\n"
     ]
    }
   ],
   "source": [
    "clfp = Perceptron() \n",
    "clfp.fit(X_train, y_train)                \n",
    "\n",
    "print(\"Classification accuracy:\", accuracy_score(y_test, clfp.predict(vectorizer.transform(X_test))))"
   ]
  },
  {
   "cell_type": "markdown",
   "metadata": {},
   "source": [
    "Add Perceptron:"
   ]
  },
  {
   "cell_type": "code",
   "execution_count": 20,
   "metadata": {
    "tags": []
   },
   "outputs": [
    {
     "name": "stdout",
     "output_type": "stream",
     "text": [
      "Classification accuracy: 0.93\n"
     ]
    }
   ],
   "source": [
    "clfa = AddPerceptron()  \n",
    "clfa.fit(X_train, y_train)                \n",
    "\n",
    "print(\"Classification accuracy:\", accuracy_score(y_test, clfa.predict(vectorizer.transform(X_test))))"
   ]
  },
  {
   "cell_type": "markdown",
   "metadata": {},
   "source": [
    "Perceptron using SGDClassifier:"
   ]
  },
  {
   "cell_type": "code",
   "execution_count": 21,
   "metadata": {
    "tags": []
   },
   "outputs": [
    {
     "name": "stdout",
     "output_type": "stream",
     "text": [
      "Classification accuracy: 0.902\n"
     ]
    }
   ],
   "source": [
    "clfd = SGDClassifier(loss='perceptron', penalty=None) \n",
    "clfd.fit(X_train, y_train)                \n",
    "\n",
    "print(\"Classification accuracy:\", accuracy_score(y_test, clfd.predict(vectorizer.transform(X_test))))"
   ]
  },
  {
   "cell_type": "markdown",
   "metadata": {
    "tags": []
   },
   "source": [
    "Normal Neural Network:"
   ]
  },
  {
   "cell_type": "code",
   "execution_count": 22,
   "metadata": {},
   "outputs": [
    {
     "name": "stdout",
     "output_type": "stream",
     "text": [
      "Classification accuracy: 0.918\n"
     ]
    }
   ],
   "source": [
    "clf = MLPClassifier(hidden_layer_sizes=(100,50)) \n",
    "clf.fit(X_train, y_train)                     \n",
    "\n",
    "print(\"Classification accuracy:\", accuracy_score(y_test, clf.predict(vectorizer.transform(X_test))))"
   ]
  },
  {
   "cell_type": "markdown",
   "metadata": {},
   "source": [
    "Add Neural Network:"
   ]
  },
  {
   "cell_type": "code",
   "execution_count": 23,
   "metadata": {},
   "outputs": [
    {
     "name": "stdout",
     "output_type": "stream",
     "text": [
      "Classification accuracy: 0.32\n"
     ]
    }
   ],
   "source": [
    "clfm = AddMLPClassifier(hidden_layer_sizes=(100,50)) \n",
    "clfm.fit(X_train, y_train)   \n",
    "\n",
    "print(\"Classification accuracy:\", accuracy_score(y_test, clfm.predict(vectorizer.transform(X_test))))"
   ]
  },
  {
   "cell_type": "markdown",
   "metadata": {},
   "source": [
    "Plotting the Accuracy Scores for Add Perceptron:"
   ]
  },
  {
   "cell_type": "code",
   "execution_count": 24,
   "metadata": {
    "tags": []
   },
   "outputs": [
    {
     "data": {
      "image/png": "[encoded data removed]",
      "text/plain": [
       "<Figure size 1200x600 with 1 Axes>"
      ]
     },
     "metadata": {},
     "output_type": "display_data"
    }
   ],
   "source": [
    "accuracy_scores = []\n",
    "\n",
    "for _ in range(20):  \n",
    "    clf = AddPerceptron()  \n",
    "    clf.fit(X_train, y_train)\n",
    "    guesses = clf.predict(vectorizer.transform(X_test))\n",
    "    accuracy = accuracy_score(y_test, guesses)\n",
    "    accuracy_scores.append(accuracy)\n",
    "    \n",
    "# Create a violin plot for training and test accuracies\n",
    "plt.figure(figsize=(12, 6))\n",
    "sns.violinplot(data=accuracy_scores)\n",
    "plt.title('Violin Plot of Test Accuracy Scores for Multiple Runs')\n",
    "plt.ylabel('Accuracy Score')\n",
    "plt.show()"
   ]
  },
  {
   "cell_type": "markdown",
   "metadata": {},
   "source": [
    "Running function to plot the accuracy scores in Neptune for Add Perceptron:"
   ]
  },
  {
   "cell_type": "code",
   "execution_count": 22,
   "metadata": {
    "tags": []
   },
   "outputs": [
    {
     "name": "stdout",
     "output_type": "stream",
     "text": [
      "[neptune] [info   ] Neptune initialized. Open in the app: https://app.neptune.ai/lmrose5522/Perceptron-Training/e/PER-53\n",
      "Final Test Accuracy for restaurant: 0.93\n",
      "[neptune] [info   ] Shutting down background jobs, please wait a moment...\n",
      "[neptune] [info   ] Done!\n",
      "[neptune] [info   ] Waiting for the remaining 85 operations to synchronize with Neptune. Do not kill this process.\n",
      "[neptune] [info   ] All 85 operations synced, thanks for waiting!\n",
      "[neptune] [info   ] Explore the metadata in the Neptune app: https://app.neptune.ai/lmrose5522/Perceptron-Training/e/PER-53/metadata\n"
     ]
    }
   ],
   "source": [
    "evaluate_addperceptron(\"hw3data/restaurant_train.txt\", \"hw3data/restaurant_test.txt\", \"restaurant\")"
   ]
  },
  {
   "cell_type": "markdown",
   "metadata": {},
   "source": [
    "Running function to plot the accuracy scores in Neptune for Add Neural Network:"
   ]
  },
  {
   "cell_type": "code",
   "execution_count": 23,
   "metadata": {
    "tags": []
   },
   "outputs": [
    {
     "name": "stdout",
     "output_type": "stream",
     "text": [
      "[neptune] [info   ] Neptune initialized. Open in the app: https://app.neptune.ai/lmrose5522/Perceptron-Training/e/PER-54\n",
      "Final Test Accuracy for restaurant: 0.32\n",
      "[neptune] [info   ] Shutting down background jobs, please wait a moment...\n",
      "[neptune] [info   ] Done!\n",
      "[neptune] [info   ] Waiting for the remaining 91 operations to synchronize with Neptune. Do not kill this process.\n",
      "[neptune] [info   ] All 91 operations synced, thanks for waiting!\n",
      "[neptune] [info   ] Explore the metadata in the Neptune app: https://app.neptune.ai/lmrose5522/Perceptron-Training/e/PER-54/metadata\n"
     ]
    }
   ],
   "source": [
    "evaluate_addmlp(\"hw3data/restaurant_train.txt\", \"hw3data/restaurant_test.txt\", \"restaurant\")"
   ]
  },
  {
   "cell_type": "markdown",
   "metadata": {},
   "source": [
    "# Testing Violin Plot \n",
    "This is to ensure the line shows the add perceptron is working how we predicted and not that it is just a faulty plot"
   ]
  },
  {
   "cell_type": "code",
   "execution_count": 24,
   "metadata": {
    "tags": []
   },
   "outputs": [
    {
     "data": {
      "image/png": "[encoded data removed]",
      "text/plain": [
       "<Figure size 1200x600 with 1 Axes>"
      ]
     },
     "metadata": {},
     "output_type": "display_data"
    }
   ],
   "source": [
    "testing = [-0.828995, -0.560181, 0.747294, 0.610370, -0.020902, 1.057122, 0.343618, -1.763040, 0.324084, -0.385082,\n",
    "          -0.676922, 0.611676, 1.030999, 0.931280, -0.839218, -0.309212, 0.331263, 0.975545, -0.479174, -0.185659,\n",
    "          -1.106335, -1.196207, 0.812526, 1.356240, -0.072010, 1.003533, 0.361636, -0.645120, 0.361395, 1.538037,\n",
    "          -0.035826, 1.564644, -2.619745, 0.821902, 0.087047, -0.299007, 0.091761, -1.987569, -0.219672, 0.357113,\n",
    "          1.477894, -0.518270, -0.808494, -0.501757, 0.915402, 0.328751, -0.529760, 0.513267, 0.097078, 0.968645,\n",
    "          -0.702053, -0.327662, -0.392108, -1.463515, 0.296120, 0.261055, 0.005113, -0.234587, -1.415371, -0.420645,\n",
    "          -0.342715, -0.802277, -0.161286, 0.404051, 1.886186, 0.174578, 0.257550, -0.074446, -1.918771, -0.026514,\n",
    "          0.060230, 2.463242, -0.192361, 0.301547, -0.034712, -1.168678, 1.142823, 0.751933, 0.791032, -0.909387,\n",
    "          1.402794, -1.401851, 0.586857, 2.190456, -0.990536, -0.566298, 0.099651, -0.503476, -1.550663, 0.068563,\n",
    "          -1.062304, 0.473592, -0.919424, 1.549934, -0.783253, -0.322062, 0.813517, -1.230864, 0.227460, 1.307143]\n",
    "\n",
    "\n",
    "plt.figure(figsize=(12, 6))\n",
    "sns.violinplot(data=testing)\n",
    "plt.title('Violin Plot to Make Sure it Íorks')\n",
    "plt.show()"
   ]
  },
  {
   "cell_type": "markdown",
   "metadata": {},
   "source": [
    "# MNIST Data Set"
   ]
  },
  {
   "cell_type": "markdown",
   "metadata": {},
   "source": [
    "Load the data and organize it by test and train:"
   ]
  },
  {
   "cell_type": "code",
   "execution_count": 34,
   "metadata": {
    "tags": []
   },
   "outputs": [
    {
     "name": "stderr",
     "output_type": "stream",
     "text": [
      "/Users/laineyrose/anaconda3/lib/python3.11/site-packages/sklearn/datasets/_openml.py:1002: FutureWarning: The default value of `parser` will change from `'liac-arff'` to `'auto'` in 1.4. You can set `parser='auto'` to silence this warning. Therefore, an `ImportError` will be raised from 1.4 if the dataset is dense and pandas is not installed. Note that the pandas parser may return different data types. See the Notes Section in fetch_openml's API doc for details.\n",
      "  warn(\n"
     ]
    }
   ],
   "source": [
    "import matplotlib.pyplot as plt\n",
    "%matplotlib inline\n",
    "import numpy as np\n",
    "from sklearn.datasets import fetch_openml\n",
    "mnist = fetch_openml('mnist_784', cache = True) # This will download a 52Mb file\n",
    "X = mnist.data.to_numpy()\n",
    "y = mnist.target.to_numpy()\n",
    "X = X/255\n",
    "\n",
    "# Split out 10% of data to test\n",
    "from sklearn.model_selection import train_test_split\n",
    "X_train, X_test, y_train, y_test = train_test_split(X, y, test_size=0.1, random_state=42)"
   ]
  },
  {
   "cell_type": "markdown",
   "metadata": {},
   "source": [
    "Normal SVM:"
   ]
  },
  {
   "cell_type": "code",
   "execution_count": 37,
   "metadata": {
    "tags": []
   },
   "outputs": [
    {
     "name": "stdout",
     "output_type": "stream",
     "text": [
      "Classification accuracy: 0.9152857142857143\n"
     ]
    }
   ],
   "source": [
    "clfs = svm.LinearSVC() \n",
    "clfs.fit(X_train, y_train)                \n",
    "\n",
    "print(\"Classification accuracy:\", accuracy_score(y_test, clfs.predict(X_test)))"
   ]
  },
  {
   "cell_type": "markdown",
   "metadata": {},
   "source": [
    "AddSVM:"
   ]
  },
  {
   "cell_type": "code",
   "execution_count": 38,
   "metadata": {
    "tags": []
   },
   "outputs": [
    {
     "name": "stdout",
     "output_type": "stream",
     "text": [
      "Classification accuracy: 0.9068571428571428\n"
     ]
    }
   ],
   "source": [
    "clfv = AddSVM() \n",
    "clfv.fit(X_train, y_train)                \n",
    "\n",
    "print(\"Classification accuracy:\", accuracy_score(y_test, clfv.predict(X_test)))"
   ]
  },
  {
   "cell_type": "markdown",
   "metadata": {},
   "source": [
    "Normal Logistic Regression:"
   ]
  },
  {
   "cell_type": "code",
   "execution_count": 39,
   "metadata": {
    "tags": []
   },
   "outputs": [
    {
     "name": "stdout",
     "output_type": "stream",
     "text": [
      "Classification accuracy: 0.9117142857142857\n"
     ]
    }
   ],
   "source": [
    "clfl = SGDClassifier(loss='log_loss', penalty=None) \n",
    "clfl.fit(X_train, y_train)                \n",
    "\n",
    "print(\"Classification accuracy:\", accuracy_score(y_test, clfl.predict(X_test)))\n"
   ]
  },
  {
   "cell_type": "markdown",
   "metadata": {},
   "source": [
    "AddLogRegression:"
   ]
  },
  {
   "cell_type": "code",
   "execution_count": 40,
   "metadata": {
    "tags": []
   },
   "outputs": [
    {
     "name": "stdout",
     "output_type": "stream",
     "text": [
      "Classification accuracy: 0.8995714285714286\n"
     ]
    }
   ],
   "source": [
    "clfr = AddLogRegression() \n",
    "clfr.fit(X_train, y_train)                \n",
    "\n",
    "print(\"Classification accuracy:\", accuracy_score(y_test, clfr.predict(X_test)))"
   ]
  },
  {
   "cell_type": "markdown",
   "metadata": {},
   "source": [
    "Normal Perceptron:"
   ]
  },
  {
   "cell_type": "code",
   "execution_count": 42,
   "metadata": {
    "tags": []
   },
   "outputs": [
    {
     "name": "stdout",
     "output_type": "stream",
     "text": [
      "Classification accuracy: 0.8771428571428571\n"
     ]
    }
   ],
   "source": [
    "clfp = Perceptron() \n",
    "clfp.fit(X_train, y_train)                \n",
    "\n",
    "print(\"Classification accuracy:\", accuracy_score(y_test, clfp.predict(X_test)))"
   ]
  },
  {
   "cell_type": "markdown",
   "metadata": {},
   "source": [
    "AddPerceptron:"
   ]
  },
  {
   "cell_type": "code",
   "execution_count": 43,
   "metadata": {
    "tags": []
   },
   "outputs": [
    {
     "name": "stdout",
     "output_type": "stream",
     "text": [
      "Classification accuracy: 0.9135714285714286\n"
     ]
    }
   ],
   "source": [
    "clfa = AddPerceptron()  \n",
    "clfa.fit(X_train, y_train)                \n",
    "\n",
    "print(\"Classification accuracy:\", accuracy_score(y_test, clfa.predict(X_test)))"
   ]
  },
  {
   "cell_type": "markdown",
   "metadata": {},
   "source": [
    "Normal Nueral Network:"
   ]
  },
  {
   "cell_type": "code",
   "execution_count": 44,
   "metadata": {
    "tags": []
   },
   "outputs": [
    {
     "name": "stdout",
     "output_type": "stream",
     "text": [
      "Classification accuracy: 0.9788571428571429\n"
     ]
    }
   ],
   "source": [
    "clf = MLPClassifier(hidden_layer_sizes=(100,50)) \n",
    "clf.fit(X_train, y_train)                     \n",
    "\n",
    "print(\"Classification accuracy:\", accuracy_score(y_test, clf.predict(X_test)))"
   ]
  },
  {
   "cell_type": "markdown",
   "metadata": {},
   "source": [
    "AddNeuralNetwork:"
   ]
  },
  {
   "cell_type": "code",
   "execution_count": 48,
   "metadata": {
    "tags": []
   },
   "outputs": [
    {
     "name": "stdout",
     "output_type": "stream",
     "text": [
      "Classification accuracy: 0.09971428571428571\n"
     ]
    }
   ],
   "source": [
    "clfm = AddMLPClassifier(hidden_layer_sizes=(100,50)) \n",
    "clfm.fit(X_train, y_train)   \n",
    "\n",
    "print(\"Classification accuracy:\", accuracy_score(y_test, clfm.predict(X_test)))"
   ]
  },
  {
   "cell_type": "markdown",
   "metadata": {
    "tags": []
   },
   "source": [
    "# A1A Data Set"
   ]
  },
  {
   "cell_type": "markdown",
   "metadata": {},
   "source": [
    "Load the data and organize it by test and train:"
   ]
  },
  {
   "cell_type": "code",
   "execution_count": 57,
   "metadata": {
    "tags": []
   },
   "outputs": [],
   "source": [
    "lines_train = [l.strip() for l in open(\"a1a.txt\")]\n",
    "examples = [linetodict(l) for l in lines_train]\n",
    "y_train = [l[0] for l in lines_train]\n",
    "\n",
    "vectorizer = DictVectorizer(sparse = True) \n",
    "X_train = vectorizer.fit_transform(examples)   \n",
    "\n",
    "lines_test = [l.strip() for l in open(\"a1a_test.txt\")]\n",
    "\n",
    "X_test = [linetodict(l) for l in lines_test]\n",
    "y_test = [l[0] for l in lines_test]"
   ]
  },
  {
   "cell_type": "markdown",
   "metadata": {},
   "source": [
    "Normal SVM:"
   ]
  },
  {
   "cell_type": "code",
   "execution_count": 58,
   "metadata": {
    "tags": []
   },
   "outputs": [
    {
     "name": "stdout",
     "output_type": "stream",
     "text": [
      "Classification accuracy: 0.8385450316578369\n"
     ]
    }
   ],
   "source": [
    "clfs = svm.LinearSVC() \n",
    "clfs.fit(X_train, y_train)                \n",
    "\n",
    "print(\"Classification accuracy:\", accuracy_score(y_test, clfs.predict(vectorizer.transform(X_test))))"
   ]
  },
  {
   "cell_type": "markdown",
   "metadata": {},
   "source": [
    "Add SVM:"
   ]
  },
  {
   "cell_type": "code",
   "execution_count": 59,
   "metadata": {
    "tags": []
   },
   "outputs": [
    {
     "name": "stdout",
     "output_type": "stream",
     "text": [
      "Classification accuracy: 0.8409355213851919\n"
     ]
    }
   ],
   "source": [
    "clfv = AddSVM() \n",
    "clfv.fit(X_train, y_train)                \n",
    "\n",
    "print(\"Classification accuracy:\", accuracy_score(y_test, clfv.predict(vectorizer.transform(X_test))))"
   ]
  },
  {
   "cell_type": "markdown",
   "metadata": {},
   "source": [
    "Normal Logistic Regression:"
   ]
  },
  {
   "cell_type": "code",
   "execution_count": 60,
   "metadata": {
    "tags": []
   },
   "outputs": [
    {
     "name": "stdout",
     "output_type": "stream",
     "text": [
      "Classification accuracy: 0.8291122884093552\n"
     ]
    }
   ],
   "source": [
    "clfl = SGDClassifier(loss='log_loss', penalty=None) \n",
    "clfl.fit(X_train, y_train)                \n",
    "\n",
    "print(\"Classification accuracy:\", accuracy_score(y_test, clfl.predict(vectorizer.transform(X_test))))"
   ]
  },
  {
   "cell_type": "markdown",
   "metadata": {},
   "source": [
    "AddLogRegression:"
   ]
  },
  {
   "cell_type": "code",
   "execution_count": 61,
   "metadata": {
    "tags": []
   },
   "outputs": [
    {
     "name": "stdout",
     "output_type": "stream",
     "text": [
      "Classification accuracy: 0.842292285825042\n"
     ]
    }
   ],
   "source": [
    "clfr = AddLogRegression() \n",
    "clfr.fit(X_train, y_train)                \n",
    "\n",
    "print(\"Classification accuracy:\", accuracy_score(y_test, clfr.predict(vectorizer.transform(X_test))))"
   ]
  },
  {
   "cell_type": "markdown",
   "metadata": {},
   "source": [
    "Normal Perceptron:"
   ]
  },
  {
   "cell_type": "code",
   "execution_count": 62,
   "metadata": {
    "tags": []
   },
   "outputs": [
    {
     "name": "stdout",
     "output_type": "stream",
     "text": [
      "Classification accuracy: 0.7426024034112935\n"
     ]
    }
   ],
   "source": [
    "clfp = Perceptron() \n",
    "clfp.fit(X_train, y_train)                \n",
    "\n",
    "print(\"Classification accuracy:\", accuracy_score(y_test, clfp.predict(vectorizer.transform(X_test))))"
   ]
  },
  {
   "cell_type": "markdown",
   "metadata": {},
   "source": [
    "AddPerceptron:"
   ]
  },
  {
   "cell_type": "code",
   "execution_count": 63,
   "metadata": {
    "tags": []
   },
   "outputs": [
    {
     "name": "stdout",
     "output_type": "stream",
     "text": [
      "Classification accuracy: 0.841678511435586\n"
     ]
    }
   ],
   "source": [
    "clfa = AddPerceptron()  \n",
    "clfa.fit(X_train, y_train)                \n",
    "\n",
    "print(\"Classification accuracy:\", accuracy_score(y_test, clfa.predict(vectorizer.transform(X_test))))"
   ]
  },
  {
   "cell_type": "markdown",
   "metadata": {},
   "source": [
    "Normal Neural Network:"
   ]
  },
  {
   "cell_type": "code",
   "execution_count": 64,
   "metadata": {
    "tags": []
   },
   "outputs": [
    {
     "name": "stdout",
     "output_type": "stream",
     "text": [
      "Classification accuracy: 0.8145109187233492\n"
     ]
    }
   ],
   "source": [
    "clf = MLPClassifier(hidden_layer_sizes=(100,50)) \n",
    "clf.fit(X_train, y_train)                     \n",
    "\n",
    "print(\"Classification accuracy:\", accuracy_score(y_test, clf.predict(vectorizer.transform(X_test))))"
   ]
  },
  {
   "cell_type": "markdown",
   "metadata": {},
   "source": [
    "Add Neural Network:"
   ]
  },
  {
   "cell_type": "code",
   "execution_count": 65,
   "metadata": {
    "tags": []
   },
   "outputs": [
    {
     "name": "stdout",
     "output_type": "stream",
     "text": [
      "Classification accuracy: 0.24053495283628376\n"
     ]
    }
   ],
   "source": [
    "clfm = AddMLPClassifier(hidden_layer_sizes=(100,50)) \n",
    "clfm.fit(X_train, y_train)   \n",
    "\n",
    "print(\"Classification accuracy:\", accuracy_score(y_test, clfm.predict(vectorizer.transform(X_test))))"
   ]
  },
  {
   "cell_type": "markdown",
   "metadata": {},
   "source": [
    "Plotting the Accuracy Scores for Add Perceptron:"
   ]
  },
  {
   "cell_type": "code",
   "execution_count": 64,
   "metadata": {
    "tags": []
   },
   "outputs": [
    {
     "data": {
      "image/png": "[encoded data removed]",
      "text/plain": [
       "<Figure size 1200x600 with 1 Axes>"
      ]
     },
     "metadata": {},
     "output_type": "display_data"
    }
   ],
   "source": [
    "accuracy_scores = []\n",
    "\n",
    "for _ in range(20):  \n",
    "    clf = AddPerceptron()  \n",
    "    clf.fit(X_train, y_train)\n",
    "    guesses = clf.predict(vectorizer.transform(X_test))\n",
    "    accuracy = accuracy_score(y_test, guesses)\n",
    "    accuracy_scores.append(accuracy)\n",
    "    \n",
    "# Create a violin plot for training and test accuracies\n",
    "plt.figure(figsize=(12, 6))\n",
    "sns.violinplot(data=accuracy_scores)\n",
    "plt.title('Violin Plot of Test Accuracy Scores for Multiple Runs')\n",
    "plt.ylabel('Accuracy Score')\n",
    "plt.show()"
   ]
  },
  {
   "cell_type": "markdown",
   "metadata": {},
   "source": [
    "Running function to plot the accuracy scores in Neptune for Add Perceptron:"
   ]
  },
  {
   "cell_type": "code",
   "execution_count": 35,
   "metadata": {
    "tags": []
   },
   "outputs": [
    {
     "name": "stdout",
     "output_type": "stream",
     "text": [
      "[neptune] [info   ] Neptune initialized. Open in the app: https://app.neptune.ai/lmrose5522/Perceptron-Training/e/PER-33\n",
      "Final Test Accuracy for a1a: 0.841678511435586\n",
      "[neptune] [info   ] Shutting down background jobs, please wait a moment...\n",
      "[neptune] [info   ] Done!\n",
      "[neptune] [info   ] Waiting for the remaining 201 operations to synchronize with Neptune. Do not kill this process.\n",
      "[neptune] [info   ] All 201 operations synced, thanks for waiting!\n",
      "[neptune] [info   ] Explore the metadata in the Neptune app: https://app.neptune.ai/lmrose5522/Perceptron-Training/e/PER-33/metadata\n"
     ]
    }
   ],
   "source": [
    "evaluate_addperceptron(\"a1a.txt\", \"a1a_test.txt\", \"a1a\")"
   ]
  },
  {
   "cell_type": "markdown",
   "metadata": {},
   "source": [
    "Running function to plot the accuracy scores in Neptune for Add Neural Network:"
   ]
  },
  {
   "cell_type": "code",
   "execution_count": 65,
   "metadata": {
    "tags": []
   },
   "outputs": [
    {
     "name": "stdout",
     "output_type": "stream",
     "text": [
      "[neptune] [info   ] Neptune initialized. Open in the app: https://app.neptune.ai/lmrose5522/Perceptron-Training/e/PER-52\n",
      "Final Test Accuracy for a1a: 0.24053495283628376\n",
      "[neptune] [info   ] Shutting down background jobs, please wait a moment...\n",
      "[neptune] [info   ] Done!\n",
      "[neptune] [info   ] Waiting for the remaining 58 operations to synchronize with Neptune. Do not kill this process.\n",
      "[neptune] [info   ] All 58 operations synced, thanks for waiting!\n",
      "[neptune] [info   ] Explore the metadata in the Neptune app: https://app.neptune.ai/lmrose5522/Perceptron-Training/e/PER-52/metadata\n"
     ]
    }
   ],
   "source": [
    "evaluate_addmlp(\"a1a.txt\", \"a1a_test.txt\", \"a1a\")"
   ]
  },
  {
   "cell_type": "markdown",
   "metadata": {},
   "source": [
    "# RCV1 Dataset:"
   ]
  },
  {
   "cell_type": "markdown",
   "metadata": {},
   "source": [
    "Load the data and organize it by test and train:"
   ]
  },
  {
   "cell_type": "code",
   "execution_count": null,
   "metadata": {
    "tags": []
   },
   "outputs": [],
   "source": [
    "lines_train = [l.strip() for l in open(\"rcv1_train.binary\")]\n",
    "examples = [linetodict(l) for l in lines_train]\n",
    "y_train = [l[0] for l in lines_train]\n",
    "\n",
    "vectorizer = DictVectorizer(sparse = True) \n",
    "X_train = vectorizer.fit_transform(examples)   \n",
    "\n",
    "lines_test = [l.strip() for l in open(\"rcv1_test.binary\")]\n",
    "\n",
    "X_test = [linetodict(l) for l in lines_test]\n",
    "y_test = [l[0] for l in lines_test]"
   ]
  },
  {
   "cell_type": "markdown",
   "metadata": {},
   "source": [
    "Normal SVM:"
   ]
  },
  {
   "cell_type": "code",
   "execution_count": null,
   "metadata": {
    "tags": []
   },
   "outputs": [],
   "source": [
    "clfs = svm.LinearSVC() \n",
    "clfs.fit(X_train, y_train)                \n",
    "\n",
    "print(\"Classification accuracy:\", accuracy_score(y_test, clfs.predict(vectorizer.transform(X_test))))"
   ]
  },
  {
   "cell_type": "markdown",
   "metadata": {},
   "source": [
    "Add SVM:"
   ]
  },
  {
   "cell_type": "code",
   "execution_count": 54,
   "metadata": {
    "tags": []
   },
   "outputs": [
    {
     "name": "stdout",
     "output_type": "stream",
     "text": [
      "Classification accuracy: 0.8385450316578369\n"
     ]
    }
   ],
   "source": [
    "clfs = svm.LinearSVC() \n",
    "clfs.fit(X_train, y_train)                \n",
    "\n",
    "print(\"Classification accuracy:\", accuracy_score(y_test, clfs.predict(vectorizer.transform(X_test))))"
   ]
  },
  {
   "cell_type": "markdown",
   "metadata": {},
   "source": [
    "Normal Logistic Regression:"
   ]
  },
  {
   "cell_type": "code",
   "execution_count": 55,
   "metadata": {
    "tags": []
   },
   "outputs": [
    {
     "name": "stdout",
     "output_type": "stream",
     "text": [
      "Classification accuracy: 0.8315350820519447\n"
     ]
    }
   ],
   "source": [
    "clfl = SGDClassifier(loss='log_loss', penalty=None) \n",
    "clfl.fit(X_train, y_train)                \n",
    "\n",
    "print(\"Classification accuracy:\", accuracy_score(y_test, clfl.predict(vectorizer.transform(X_test))))"
   ]
  },
  {
   "cell_type": "markdown",
   "metadata": {},
   "source": [
    "AddLogRegression:"
   ]
  },
  {
   "cell_type": "code",
   "execution_count": 56,
   "metadata": {
    "tags": []
   },
   "outputs": [
    {
     "name": "stdout",
     "output_type": "stream",
     "text": [
      "Classification accuracy: 0.842292285825042\n"
     ]
    }
   ],
   "source": [
    "clfr = AddLogRegression() \n",
    "clfr.fit(X_train, y_train)                \n",
    "\n",
    "print(\"Classification accuracy:\", accuracy_score(y_test, clfr.predict(vectorizer.transform(X_test))))"
   ]
  },
  {
   "cell_type": "markdown",
   "metadata": {},
   "source": [
    "Normal Perceptron:"
   ]
  },
  {
   "cell_type": "code",
   "execution_count": 13,
   "metadata": {
    "tags": []
   },
   "outputs": [
    {
     "name": "stdout",
     "output_type": "stream",
     "text": [
      "Classification accuracy: 0.5289777516648239\n"
     ]
    }
   ],
   "source": [
    "clfp = Perceptron() \n",
    "clfp.fit(X_train, y_train)                \n",
    "\n",
    "print(\"Classification accuracy:\", accuracy_score(y_test, clfp.predict(vectorizer.transform(X_test))))"
   ]
  },
  {
   "cell_type": "markdown",
   "metadata": {},
   "source": [
    "AddPerceptron:"
   ]
  },
  {
   "cell_type": "code",
   "execution_count": 35,
   "metadata": {},
   "outputs": [
    {
     "name": "stdout",
     "output_type": "stream",
     "text": [
      "Classification accuracy: 0.5289777516648239\n"
     ]
    }
   ],
   "source": [
    "clfa = AddPerceptron()  \n",
    "clfa.fit(X_train, y_train)                \n",
    "\n",
    "print(\"Classification accuracy:\", accuracy_score(y_test, clfa.predict(vectorizer.transform(X_test))))"
   ]
  },
  {
   "cell_type": "markdown",
   "metadata": {},
   "source": [
    "Normal Neural Network:"
   ]
  },
  {
   "cell_type": "code",
   "execution_count": 1,
   "metadata": {},
   "outputs": [
    {
     "ename": "NameError",
     "evalue": "name 'MLPClassifier' is not defined",
     "output_type": "error",
     "traceback": [
      "\u001b[0;31m---------------------------------------------------------------------------\u001b[0m",
      "\u001b[0;31mNameError\u001b[0m                                 Traceback (most recent call last)",
      "Cell \u001b[0;32mIn[1], line 1\u001b[0m\n\u001b[0;32m----> 1\u001b[0m clf \u001b[38;5;241m=\u001b[39m MLPClassifier(hidden_layer_sizes\u001b[38;5;241m=\u001b[39m(\u001b[38;5;241m100\u001b[39m,\u001b[38;5;241m50\u001b[39m)) \n\u001b[1;32m      2\u001b[0m clf\u001b[38;5;241m.\u001b[39mfit(X_train, y_train)                     \n\u001b[1;32m      4\u001b[0m \u001b[38;5;28mprint\u001b[39m(\u001b[38;5;124m\"\u001b[39m\u001b[38;5;124mClassification accuracy:\u001b[39m\u001b[38;5;124m\"\u001b[39m, accuracy_score(y_test, clf\u001b[38;5;241m.\u001b[39mpredict(vectorizer\u001b[38;5;241m.\u001b[39mtransform(X_test))))\n",
      "\u001b[0;31mNameError\u001b[0m: name 'MLPClassifier' is not defined"
     ]
    }
   ],
   "source": [
    "clf = MLPClassifier(hidden_layer_sizes=(100,50)) \n",
    "clf.fit(X_train, y_train)                     \n",
    "\n",
    "print(\"Classification accuracy:\", accuracy_score(y_test, clf.predict(vectorizer.transform(X_test))))"
   ]
  },
  {
   "cell_type": "markdown",
   "metadata": {},
   "source": [
    "AddNeural Network:"
   ]
  },
  {
   "cell_type": "code",
   "execution_count": null,
   "metadata": {},
   "outputs": [],
   "source": [
    "clfm = AddMLPClassifier(hidden_layer_sizes=(100,50)) \n",
    "clfm.fit(X_train, y_train)   \n",
    "\n",
    "print(\"Classification accuracy:\", accuracy_score(y_test, clfm.predict(vectorizer.transform(X_test))))"
   ]
  },
  {
   "cell_type": "markdown",
   "metadata": {},
   "source": [
    "Plotting the Accuracy Scores for Add Perceptron:"
   ]
  },
  {
   "cell_type": "code",
   "execution_count": 14,
   "metadata": {},
   "outputs": [
    {
     "data": {
      "image/png": "[encoded data removed]",
      "text/plain": [
       "<Figure size 1200x600 with 1 Axes>"
      ]
     },
     "metadata": {},
     "output_type": "display_data"
    }
   ],
   "source": [
    "accuracy_scores = []\n",
    "\n",
    "for _ in range(20):  \n",
    "    clf = AddPerceptron()  \n",
    "    clf.fit(X_train, y_train)\n",
    "    guesses = clf.predict(vectorizer.transform(X_test))\n",
    "    accuracy = accuracy_score(y_test, guesses)\n",
    "    accuracy_scores.append(accuracy)\n",
    "    \n",
    "# Create a violin plot for training and test accuracies\n",
    "plt.figure(figsize=(12, 6))\n",
    "sns.violinplot(data=accuracy_scores)\n",
    "plt.title('Violin Plot of Test Accuracy Scores for Multiple Runs')\n",
    "plt.ylabel('Accuracy Score')\n",
    "plt.show()"
   ]
  },
  {
   "cell_type": "markdown",
   "metadata": {},
   "source": [
    "Running function to plot the accuracy scores in Neptune for Add Perceptron:"
   ]
  },
  {
   "cell_type": "code",
   "execution_count": null,
   "metadata": {
    "tags": []
   },
   "outputs": [
    {
     "name": "stdout",
     "output_type": "stream",
     "text": [
      "[neptune] [info   ] Neptune initialized. Open in the app: https://app.neptune.ai/lmrose5522/Perceptron-Training/e/PER-55\n"
     ]
    }
   ],
   "source": [
    "evaluate_addperceptron(\"rcv1_train.binary\", \"rcv1_test.binary\", \"rcv1\")"
   ]
  },
  {
   "cell_type": "markdown",
   "metadata": {},
   "source": [
    "Running function to plot the accuracy scores in Neptune for Add Neural Network:"
   ]
  },
  {
   "cell_type": "code",
   "execution_count": 1,
   "metadata": {},
   "outputs": [
    {
     "ename": "NameError",
     "evalue": "name 'evaluate_addmlp' is not defined",
     "output_type": "error",
     "traceback": [
      "\u001b[0;31m---------------------------------------------------------------------------\u001b[0m",
      "\u001b[0;31mNameError\u001b[0m                                 Traceback (most recent call last)",
      "Cell \u001b[0;32mIn[1], line 1\u001b[0m\n\u001b[0;32m----> 1\u001b[0m evaluate_addmlp(\u001b[38;5;124m\"\u001b[39m\u001b[38;5;124mrcv1_train.binary\u001b[39m\u001b[38;5;124m\"\u001b[39m, \u001b[38;5;124m\"\u001b[39m\u001b[38;5;124mrcv1_test.binary\u001b[39m\u001b[38;5;124m\"\u001b[39m, \u001b[38;5;124m\"\u001b[39m\u001b[38;5;124mrcv1\u001b[39m\u001b[38;5;124m\"\u001b[39m)\n",
      "\u001b[0;31mNameError\u001b[0m: name 'evaluate_addmlp' is not defined"
     ]
    }
   ],
   "source": [
    "evaluate_addmlp(\"rcv1_train.binary\", \"rcv1_test.binary\", \"rcv1\")"
   ]
  },
  {
   "cell_type": "markdown",
   "metadata": {},
   "source": [
    "Increasing iterations to 1000 because dataset is larger"
   ]
  },
  {
   "cell_type": "code",
   "execution_count": 13,
   "metadata": {
    "tags": []
   },
   "outputs": [],
   "source": [
    "class AddPerceptron:\n",
    "    \n",
    "    def __init__(self, **kwargs):\n",
    "        \"\"\"Olivia's additive Perceptron implemented through sklearn.\"\"\"\n",
    "        self.max_iter = kwargs.get('max_iter', 75) # Store passed max_iter since we rig it to 1\n",
    "        random.seed(a = kwargs.get('random_state', 42))\n",
    "        kwargs['max_iter'] = 1\n",
    "        self.epoch_size = kwargs.pop('epoch_size', 1.0)\n",
    "        self.clf = Perceptron(**kwargs)\n",
    "        \n",
    "    def _shuffler(self, X, y):\n",
    "        \"\"\"Resample part of data if epoch_size < 1.0.\"\"\"\n",
    "        if self.epoch_size < 1.0:\n",
    "            return resample(X, y, replace = False, n_samples = int(X.shape[0] * self.epoch_size))\n",
    "        return X, y\n",
    "    \n",
    "    def fit(self, X, y):\n",
    "        self.clf.fit(*self._shuffler(X, y))\n",
    "        for i in range(self.max_iter - 1):\n",
    "            clfp = Perceptron(max_iter = 1, random_state = random.randint(0,100000000))\n",
    "            clfp.fit(*self._shuffler(X, y))\n",
    "            self.clf.coef_ += clfp.coef_\n",
    "            self.clf.intercept_ += clfp.intercept_\n",
    "\n",
    "    def predict(self, X):\n",
    "        return self.clf.predict(X)\n",
    "\n",
    "    def score(self, *args, **kwargs):\n",
    "        return self.clf.score(*args, **kwargs)"
   ]
  },
  {
   "cell_type": "markdown",
   "metadata": {},
   "source": [
    "# Gisette Data Set"
   ]
  },
  {
   "cell_type": "markdown",
   "metadata": {},
   "source": [
    "Load the data and organize it by test and train:"
   ]
  },
  {
   "cell_type": "code",
   "execution_count": 14,
   "metadata": {
    "tags": []
   },
   "outputs": [],
   "source": [
    "lines_train = [l.strip() for l in open(\"gisette_train\")]\n",
    "examples = [linetodict(l) for l in lines_train]\n",
    "y_train = [l[0] for l in lines_train]\n",
    "\n",
    "vectorizer = DictVectorizer(sparse = True) \n",
    "X_train = vectorizer.fit_transform(examples)   \n",
    "\n",
    "lines_test = [l.strip() for l in open(\"gisette_test\")]\n",
    "\n",
    "X_test = [linetodict(l) for l in lines_test]\n",
    "y_test = [l[0] for l in lines_test]"
   ]
  },
  {
   "cell_type": "markdown",
   "metadata": {},
   "source": [
    "Normal SVM:"
   ]
  },
  {
   "cell_type": "code",
   "execution_count": 15,
   "metadata": {
    "tags": []
   },
   "outputs": [
    {
     "name": "stdout",
     "output_type": "stream",
     "text": [
      "Classification accuracy: 0.982\n"
     ]
    }
   ],
   "source": [
    "clfs = svm.LinearSVC() \n",
    "clfs.fit(X_train, y_train)                \n",
    "\n",
    "print(\"Classification accuracy:\", accuracy_score(y_test, clfs.predict(vectorizer.transform(X_test))))"
   ]
  },
  {
   "cell_type": "markdown",
   "metadata": {},
   "source": [
    "AddSVM:"
   ]
  },
  {
   "cell_type": "code",
   "execution_count": 16,
   "metadata": {
    "tags": []
   },
   "outputs": [
    {
     "name": "stdout",
     "output_type": "stream",
     "text": [
      "Classification accuracy: 0.958\n"
     ]
    }
   ],
   "source": [
    "clfv = AddSVM() \n",
    "clfv.fit(X_train, y_train)                \n",
    "\n",
    "print(\"Classification accuracy:\", accuracy_score(y_test, clfv.predict(vectorizer.transform(X_test))))"
   ]
  },
  {
   "cell_type": "markdown",
   "metadata": {},
   "source": [
    "Normal Logistic Regression:"
   ]
  },
  {
   "cell_type": "code",
   "execution_count": 17,
   "metadata": {
    "tags": []
   },
   "outputs": [
    {
     "name": "stdout",
     "output_type": "stream",
     "text": [
      "Classification accuracy: 0.979\n"
     ]
    }
   ],
   "source": [
    "clfl = SGDClassifier(loss='log_loss', penalty=None) \n",
    "clfl.fit(X_train, y_train)                \n",
    "\n",
    "print(\"Classification accuracy:\", accuracy_score(y_test, clfl.predict(vectorizer.transform(X_test))))\n"
   ]
  },
  {
   "cell_type": "markdown",
   "metadata": {},
   "source": [
    "AddLogRegression:"
   ]
  },
  {
   "cell_type": "code",
   "execution_count": 18,
   "metadata": {
    "tags": []
   },
   "outputs": [
    {
     "name": "stdout",
     "output_type": "stream",
     "text": [
      "Classification accuracy: 0.965\n"
     ]
    }
   ],
   "source": [
    "clfr = AddLogRegression() \n",
    "clfr.fit(X_train, y_train)                \n",
    "\n",
    "print(\"Classification accuracy:\", accuracy_score(y_test, clfr.predict(vectorizer.transform(X_test))))"
   ]
  },
  {
   "cell_type": "markdown",
   "metadata": {},
   "source": [
    "Normal Perceptron:"
   ]
  },
  {
   "cell_type": "code",
   "execution_count": 19,
   "metadata": {
    "tags": []
   },
   "outputs": [
    {
     "name": "stdout",
     "output_type": "stream",
     "text": [
      "Classification accuracy: 0.964\n"
     ]
    }
   ],
   "source": [
    "clfp = Perceptron() \n",
    "clfp.fit(X_train, y_train)                \n",
    "\n",
    "print(\"Classification accuracy:\", accuracy_score(y_test, clfp.predict(vectorizer.transform(X_test))))"
   ]
  },
  {
   "cell_type": "markdown",
   "metadata": {},
   "source": [
    "AddPerceptron:"
   ]
  },
  {
   "cell_type": "code",
   "execution_count": 20,
   "metadata": {},
   "outputs": [
    {
     "name": "stdout",
     "output_type": "stream",
     "text": [
      "Classification accuracy: 0.964\n"
     ]
    }
   ],
   "source": [
    "clfa = AddPerceptron()  \n",
    "clfa.fit(X_train, y_train)                \n",
    "\n",
    "print(\"Classification accuracy:\", accuracy_score(y_test, clfa.predict(vectorizer.transform(X_test))))"
   ]
  },
  {
   "cell_type": "markdown",
   "metadata": {},
   "source": [
    "Normal Nueral Network:"
   ]
  },
  {
   "cell_type": "code",
   "execution_count": 21,
   "metadata": {},
   "outputs": [
    {
     "name": "stdout",
     "output_type": "stream",
     "text": [
      "Classification accuracy: 0.939\n"
     ]
    }
   ],
   "source": [
    "clf = MLPClassifier(hidden_layer_sizes=(100,50)) \n",
    "clf.fit(X_train, y_train)                     \n",
    "\n",
    "print(\"Classification accuracy:\", accuracy_score(y_test, clf.predict(vectorizer.transform(X_test))))"
   ]
  },
  {
   "cell_type": "markdown",
   "metadata": {},
   "source": [
    "AddNeuralNetwork:"
   ]
  },
  {
   "cell_type": "code",
   "execution_count": null,
   "metadata": {},
   "outputs": [],
   "source": [
    "clfm = AddMLPClassifier(hidden_layer_sizes=(100,50)) \n",
    "clfm.fit(X_train, y_train)   \n",
    "\n",
    "print(\"Classification accuracy:\", accuracy_score(y_test, clfm.predict(vectorizer.transform(X_test))))"
   ]
  },
  {
   "cell_type": "markdown",
   "metadata": {},
   "source": [
    "Plotting the Accuracy Scores for Add Perceptron:"
   ]
  },
  {
   "cell_type": "code",
   "execution_count": null,
   "metadata": {},
   "outputs": [],
   "source": [
    "accuracy_scores = []\n",
    "\n",
    "for _ in range(20):  \n",
    "    clf = AddPerceptron()  \n",
    "    clf.fit(X_train, y_train)\n",
    "    guesses = clf.predict(vectorizer.transform(X_test))\n",
    "    accuracy = accuracy_score(y_test, guesses)\n",
    "    accuracy_scores.append(accuracy)\n",
    "    \n",
    "# Create a violin plot for training and test accuracies\n",
    "plt.figure(figsize=(12, 6))\n",
    "sns.violinplot(data=accuracy_scores)\n",
    "plt.title('Violin Plot of Test Accuracy Scores for Multiple Runs')\n",
    "plt.ylabel('Accuracy Score')\n",
    "plt.show()"
   ]
  },
  {
   "cell_type": "markdown",
   "metadata": {},
   "source": [
    "Running function to plot the accuracy scores in Neptune for Add Perceptron:"
   ]
  },
  {
   "cell_type": "code",
   "execution_count": 50,
   "metadata": {
    "tags": []
   },
   "outputs": [
    {
     "name": "stdout",
     "output_type": "stream",
     "text": [
      "[neptune] [info   ] Neptune initialized. Open in the app: https://app.neptune.ai/lmrose5522/Perceptron-Training/e/PER-14\n",
      "Final Test Accuracy for giestte: 0.966\n",
      "[neptune] [info   ] Shutting down background jobs, please wait a moment...\n",
      "[neptune] [info   ] Done!\n",
      "[neptune] [info   ] Waiting for the remaining 13 operations to synchronize with Neptune. Do not kill this process.\n",
      "[neptune] [info   ] All 13 operations synced, thanks for waiting!\n",
      "[neptune] [info   ] Explore the metadata in the Neptune app: https://app.neptune.ai/lmrose5522/Perceptron-Training/e/PER-14/metadata\n"
     ]
    }
   ],
   "source": [
    "evaluate_addperceptron(\"gisette_train\", \"gisette_test\", \"giestte\")"
   ]
  },
  {
   "cell_type": "markdown",
   "metadata": {},
   "source": [
    "Running function to plot the accuracy scores in Neptune for Add Neural Network:"
   ]
  },
  {
   "cell_type": "code",
   "execution_count": null,
   "metadata": {},
   "outputs": [],
   "source": [
    "evaluate_addmlp(\"gisette_train\", \"gisette_test\", \"giestte\")"
   ]
  },
  {
   "cell_type": "markdown",
   "metadata": {},
   "source": [
    "This is the first instance I found where accuracy decreased for AddPerceptron in comparison with the SVM model."
   ]
  },
  {
   "cell_type": "markdown",
   "metadata": {},
   "source": [
    "Going back to 100 iterations:"
   ]
  },
  {
   "cell_type": "code",
   "execution_count": 22,
   "metadata": {
    "tags": []
   },
   "outputs": [],
   "source": [
    "class AddPerceptron:\n",
    "    \n",
    "    def __init__(self, **kwargs):\n",
    "        \"\"\"Olivia's additive Perceptron implemented through sklearn.\"\"\"\n",
    "        self.max_iter = kwargs.get('max_iter', 100) # Store passed max_iter since we rig it to 1\n",
    "        random.seed(a = kwargs.get('random_state', 42))\n",
    "        kwargs['max_iter'] = 1\n",
    "        self.epoch_size = kwargs.pop('epoch_size', 1.0)\n",
    "        self.clf = Perceptron(**kwargs)\n",
    "        \n",
    "    def _shuffler(self, X, y):\n",
    "        \"\"\"Resample part of data if epoch_size < 1.0.\"\"\"\n",
    "        if self.epoch_size < 1.0:\n",
    "            return resample(X, y, replace = False, n_samples = int(X.shape[0] * self.epoch_size))\n",
    "        return X, y\n",
    "    \n",
    "    def fit(self, X, y):\n",
    "        self.clf.fit(*self._shuffler(X, y))\n",
    "        for i in range(self.max_iter - 1):\n",
    "            clfp = Perceptron(max_iter = 1, random_state = random.randint(0,100000000))\n",
    "            clfp.fit(*self._shuffler(X, y))\n",
    "            self.clf.coef_ += clfp.coef_\n",
    "            self.clf.intercept_ += clfp.intercept_\n",
    "\n",
    "    def predict(self, X):\n",
    "        return self.clf.predict(X)\n",
    "\n",
    "    def score(self, *args, **kwargs):\n",
    "        return self.clf.score(*args, **kwargs)"
   ]
  },
  {
   "cell_type": "markdown",
   "metadata": {},
   "source": [
    "# W7A Dataset:"
   ]
  },
  {
   "cell_type": "markdown",
   "metadata": {},
   "source": [
    "Load the data and organize it by test and train:"
   ]
  },
  {
   "cell_type": "code",
   "execution_count": 23,
   "metadata": {},
   "outputs": [],
   "source": [
    "lines_train = [l.strip() for l in open(\"w7a_train.txt\")]\n",
    "examples = [linetodict(l) for l in lines_train]\n",
    "y_train = [l[0] for l in lines_train]\n",
    "\n",
    "vectorizer = DictVectorizer(sparse = True) \n",
    "X_train = vectorizer.fit_transform(examples)   \n",
    "\n",
    "lines_test = [l.strip() for l in open(\"w7a_test.txt\")]\n",
    "\n",
    "X_test = [linetodict(l) for l in lines_test]\n",
    "y_test = [l[0] for l in lines_test]"
   ]
  },
  {
   "cell_type": "markdown",
   "metadata": {},
   "source": [
    "Normal SVM:"
   ]
  },
  {
   "cell_type": "code",
   "execution_count": 24,
   "metadata": {
    "tags": []
   },
   "outputs": [
    {
     "name": "stdout",
     "output_type": "stream",
     "text": [
      "Classification accuracy: 0.9867901185297522\n"
     ]
    }
   ],
   "source": [
    "clfs = svm.LinearSVC() \n",
    "clfs.fit(X_train, y_train)                \n",
    "\n",
    "print(\"Classification accuracy:\", accuracy_score(y_test, clfs.predict(vectorizer.transform(X_test))))"
   ]
  },
  {
   "cell_type": "markdown",
   "metadata": {},
   "source": [
    "AddSVM:"
   ]
  },
  {
   "cell_type": "code",
   "execution_count": 25,
   "metadata": {
    "tags": []
   },
   "outputs": [
    {
     "name": "stdout",
     "output_type": "stream",
     "text": [
      "Classification accuracy: 0.9863511194476593\n"
     ]
    }
   ],
   "source": [
    "clfv = AddSVM() \n",
    "clfv.fit(X_train, y_train)                \n",
    "\n",
    "print(\"Classification accuracy:\", accuracy_score(y_test, clfv.predict(vectorizer.transform(X_test))))"
   ]
  },
  {
   "cell_type": "markdown",
   "metadata": {},
   "source": [
    "Normal Logistic Regression:"
   ]
  },
  {
   "cell_type": "code",
   "execution_count": 26,
   "metadata": {
    "tags": []
   },
   "outputs": [
    {
     "name": "stdout",
     "output_type": "stream",
     "text": [
      "Classification accuracy: 0.9833978528953985\n"
     ]
    }
   ],
   "source": [
    "clfl = SGDClassifier(loss='log_loss', penalty=None) \n",
    "clfl.fit(X_train, y_train)                \n",
    "\n",
    "print(\"Classification accuracy:\", accuracy_score(y_test, clfl.predict(vectorizer.transform(X_test))))"
   ]
  },
  {
   "cell_type": "markdown",
   "metadata": {},
   "source": [
    "AddLogRegression:"
   ]
  },
  {
   "cell_type": "code",
   "execution_count": 27,
   "metadata": {
    "tags": []
   },
   "outputs": [
    {
     "name": "stdout",
     "output_type": "stream",
     "text": [
      "Classification accuracy: 0.9840363970148063\n"
     ]
    }
   ],
   "source": [
    "clfr = AddLogRegression() \n",
    "clfr.fit(X_train, y_train)                \n",
    "\n",
    "print(\"Classification accuracy:\", accuracy_score(y_test, clfr.predict(vectorizer.transform(X_test))))"
   ]
  },
  {
   "cell_type": "markdown",
   "metadata": {},
   "source": [
    "Normal Perceptron:"
   ]
  },
  {
   "cell_type": "code",
   "execution_count": 28,
   "metadata": {
    "tags": []
   },
   "outputs": [
    {
     "name": "stdout",
     "output_type": "stream",
     "text": [
      "Classification accuracy: 0.9806840403879156\n"
     ]
    }
   ],
   "source": [
    "clfp = Perceptron() \n",
    "clfp.fit(X_train, y_train)                \n",
    "\n",
    "print(\"Classification accuracy:\", accuracy_score(y_test, clfp.predict(vectorizer.transform(X_test))))"
   ]
  },
  {
   "cell_type": "markdown",
   "metadata": {},
   "source": [
    "Add Perceptron:"
   ]
  },
  {
   "cell_type": "code",
   "execution_count": 29,
   "metadata": {},
   "outputs": [
    {
     "name": "stdout",
     "output_type": "stream",
     "text": [
      "Classification accuracy: 0.9849942131939179\n"
     ]
    }
   ],
   "source": [
    "clfa = AddPerceptron()  \n",
    "clfa.fit(X_train, y_train)                \n",
    "\n",
    "print(\"Classification accuracy:\", accuracy_score(y_test, clfa.predict(vectorizer.transform(X_test))))"
   ]
  },
  {
   "cell_type": "markdown",
   "metadata": {},
   "source": [
    "Normal Neural Network:"
   ]
  },
  {
   "cell_type": "code",
   "execution_count": 30,
   "metadata": {},
   "outputs": [
    {
     "name": "stdout",
     "output_type": "stream",
     "text": [
      "Classification accuracy: 0.9875084806640859\n"
     ]
    }
   ],
   "source": [
    "clf = MLPClassifier(hidden_layer_sizes=(100,50)) \n",
    "clf.fit(X_train, y_train)                     \n",
    "\n",
    "print(\"Classification accuracy:\", accuracy_score(y_test, clf.predict(vectorizer.transform(X_test))))"
   ]
  },
  {
   "cell_type": "markdown",
   "metadata": {},
   "source": [
    "AddNeuralNetwork:"
   ]
  },
  {
   "cell_type": "code",
   "execution_count": 32,
   "metadata": {},
   "outputs": [
    {
     "name": "stdout",
     "output_type": "stream",
     "text": [
      "Classification accuracy: 0.9705072434848545\n"
     ]
    }
   ],
   "source": [
    "clfm = AddMLPClassifier(hidden_layer_sizes=(100,50)) \n",
    "clfm.fit(X_train, y_train)   \n",
    "\n",
    "print(\"Classification accuracy:\", accuracy_score(y_test, clfm.predict(vectorizer.transform(X_test))))"
   ]
  },
  {
   "cell_type": "markdown",
   "metadata": {},
   "source": [
    "Plotting the Accuracy Scores for Add Perceptron:"
   ]
  },
  {
   "cell_type": "code",
   "execution_count": null,
   "metadata": {},
   "outputs": [],
   "source": [
    "accuracy_scores = []\n",
    "\n",
    "for _ in range(20):  \n",
    "    clf = AddPerceptron()  \n",
    "    clf.fit(X_train, y_train)\n",
    "    guesses = clf.predict(vectorizer.transform(X_test))\n",
    "    accuracy = accuracy_score(y_test, guesses)\n",
    "    accuracy_scores.append(accuracy)\n",
    "    \n",
    "# Create a violin plot for training and test accuracies\n",
    "plt.figure(figsize=(12, 6))\n",
    "sns.violinplot(data=accuracy_scores)\n",
    "plt.title('Violin Plot of Test Accuracy Scores for Multiple Runs')\n",
    "plt.ylabel('Accuracy Score')\n",
    "plt.show()"
   ]
  },
  {
   "cell_type": "markdown",
   "metadata": {},
   "source": [
    "Running function to plot the accuracy scores in Neptune for Add Perceptron:"
   ]
  },
  {
   "cell_type": "code",
   "execution_count": 51,
   "metadata": {
    "tags": []
   },
   "outputs": [
    {
     "name": "stdout",
     "output_type": "stream",
     "text": [
      "[neptune] [info   ] Neptune initialized. Open in the app: https://app.neptune.ai/lmrose5522/Perceptron-Training/e/PER-15\n",
      "Final Test Accuracy for w7a: 0.9849942131939179\n",
      "[neptune] [info   ] Shutting down background jobs, please wait a moment...\n",
      "[neptune] [info   ] Done!\n",
      "[neptune] [info   ] Waiting for the remaining 109 operations to synchronize with Neptune. Do not kill this process.\n",
      "[neptune] [info   ] All 109 operations synced, thanks for waiting!\n",
      "[neptune] [info   ] Explore the metadata in the Neptune app: https://app.neptune.ai/lmrose5522/Perceptron-Training/e/PER-15/metadata\n"
     ]
    }
   ],
   "source": [
    "evaluate_addperceptron(\"w7a_train.txt\", \"w7a_test.txt\", \"w7a\")"
   ]
  },
  {
   "cell_type": "markdown",
   "metadata": {},
   "source": [
    "Running function to plot the accuracy scores in Neptune for Add Neural Network:"
   ]
  },
  {
   "cell_type": "code",
   "execution_count": null,
   "metadata": {},
   "outputs": [],
   "source": [
    "evaluate_addmlp(\"w7a_train.txt\", \"w7a_test.txt\", \"w7a\")"
   ]
  },
  {
   "cell_type": "markdown",
   "metadata": {},
   "source": [
    "# News20 Dataset:"
   ]
  },
  {
   "cell_type": "markdown",
   "metadata": {},
   "source": [
    "Load the data and organize it by test and train:"
   ]
  },
  {
   "cell_type": "code",
   "execution_count": 33,
   "metadata": {},
   "outputs": [],
   "source": [
    "lines = [l.strip() for l in open('news20.binary')] \n",
    "examples = [linetodict(l) for l in lines]\n",
    "y = [0 if int(l[:2]) == -1 else int(l[:2]) for l in lines]  \n",
    "\n",
    "vectorizer = DictVectorizer(sparse = True)\n",
    "X = vectorizer.fit_transform(examples)     \n",
    "X_train, X_test, y_train, y_test = train_test_split(X, y, test_size=0.2, random_state=42)"
   ]
  },
  {
   "cell_type": "markdown",
   "metadata": {},
   "source": [
    "Normal SVM:"
   ]
  },
  {
   "cell_type": "code",
   "execution_count": 35,
   "metadata": {},
   "outputs": [
    {
     "name": "stdout",
     "output_type": "stream",
     "text": [
      "Classification accuracy: 0.56425\n"
     ]
    }
   ],
   "source": [
    "clfs = svm.LinearSVC() \n",
    "clfs.fit(X_train, y_train)                \n",
    "\n",
    "print(\"Classification accuracy:\", accuracy_score(y_test, clfs.predict(X_test)))"
   ]
  },
  {
   "cell_type": "markdown",
   "metadata": {},
   "source": [
    "AddSVM:"
   ]
  },
  {
   "cell_type": "code",
   "execution_count": null,
   "metadata": {},
   "outputs": [],
   "source": [
    "clfv = AddSVM() \n",
    "clfv.fit(X_train, y_train)                \n",
    "\n",
    "print(\"Classification accuracy:\", accuracy_score(y_test, clfv.predict(X_test)))"
   ]
  },
  {
   "cell_type": "markdown",
   "metadata": {},
   "source": [
    "Normal Logistic Regression:"
   ]
  },
  {
   "cell_type": "code",
   "execution_count": null,
   "metadata": {},
   "outputs": [],
   "source": [
    "clfl = SGDClassifier(loss='log_loss', penalty=None) \n",
    "clfl.fit(X_train, y_train)                \n",
    "\n",
    "print(\"Classification accuracy:\", accuracy_score(y_test, clfl.predict(X_test)))"
   ]
  },
  {
   "cell_type": "markdown",
   "metadata": {},
   "source": [
    "AddLogRegression:"
   ]
  },
  {
   "cell_type": "code",
   "execution_count": null,
   "metadata": {},
   "outputs": [],
   "source": [
    "clfr = AddLogRegression() \n",
    "clfr.fit(X_train, y_train)                \n",
    "\n",
    "print(\"Classification accuracy:\", accuracy_score(y_test, clfr.predict(X_test)))"
   ]
  },
  {
   "cell_type": "markdown",
   "metadata": {},
   "source": [
    "Normal Perceptron:"
   ]
  },
  {
   "cell_type": "code",
   "execution_count": null,
   "metadata": {},
   "outputs": [],
   "source": [
    "clfp = Perceptron() \n",
    "clfp.fit(X_train, y_train)                \n",
    "\n",
    "print(\"Classification accuracy:\", accuracy_score(y_test, clfp.predict(X_test)))"
   ]
  },
  {
   "cell_type": "markdown",
   "metadata": {},
   "source": [
    "Add Perceptron:"
   ]
  },
  {
   "cell_type": "code",
   "execution_count": null,
   "metadata": {},
   "outputs": [],
   "source": [
    "clfa = AddPerceptron()  \n",
    "clfa.fit(X_train, y_train)                \n",
    "\n",
    "print(\"Classification accuracy:\", accuracy_score(y_test, clfa.predict(X_test)))"
   ]
  },
  {
   "cell_type": "markdown",
   "metadata": {},
   "source": [
    "Normal Neural Network:"
   ]
  },
  {
   "cell_type": "code",
   "execution_count": null,
   "metadata": {},
   "outputs": [],
   "source": [
    "clf = MLPClassifier(hidden_layer_sizes=(100,50)) \n",
    "clf.fit(X_train, y_train)                     \n",
    "\n",
    "print(\"Classification accuracy:\", accuracy_score(y_test, clf.predict(X_test)))"
   ]
  },
  {
   "cell_type": "markdown",
   "metadata": {},
   "source": [
    "AddNeuralNetwork:"
   ]
  },
  {
   "cell_type": "code",
   "execution_count": null,
   "metadata": {},
   "outputs": [],
   "source": [
    "clfm = AddMLPClassifier(hidden_layer_sizes=(100,50)) \n",
    "clfm.fit(X_train, y_train)   \n",
    "\n",
    "print(\"Classification accuracy:\", accuracy_score(y_test, clfm.predict(X_test)))"
   ]
  },
  {
   "cell_type": "markdown",
   "metadata": {},
   "source": [
    "Plotting the Accuracy Scores for Add Perceptron:"
   ]
  },
  {
   "cell_type": "code",
   "execution_count": null,
   "metadata": {},
   "outputs": [],
   "source": [
    "accuracy_scores = []\n",
    "\n",
    "for _ in range(20):  \n",
    "    clf = AddPerceptron()  \n",
    "    clf.fit(X_train, y_train)\n",
    "    guesses = clf.predict(vectorizer.transform(X_test))\n",
    "    accuracy = accuracy_score(y_test, guesses)\n",
    "    accuracy_scores.append(accuracy)\n",
    "    \n",
    "# Create a violin plot for training and test accuracies\n",
    "plt.figure(figsize=(12, 6))\n",
    "sns.violinplot(data=accuracy_scores)\n",
    "plt.title('Violin Plot of Test Accuracy Scores for Multiple Runs')\n",
    "plt.ylabel('Accuracy Score')\n",
    "plt.show()"
   ]
  },
  {
   "cell_type": "markdown",
   "metadata": {},
   "source": [
    "Running function to plot the accuracy scores in Neptune for Add Perceptron:"
   ]
  },
  {
   "cell_type": "code",
   "execution_count": 1,
   "metadata": {},
   "outputs": [
    {
     "ename": "NameError",
     "evalue": "name 'evaluate_addperceptron_2' is not defined",
     "output_type": "error",
     "traceback": [
      "\u001b[0;31m---------------------------------------------------------------------------\u001b[0m",
      "\u001b[0;31mNameError\u001b[0m                                 Traceback (most recent call last)",
      "Cell \u001b[0;32mIn[1], line 1\u001b[0m\n\u001b[0;32m----> 1\u001b[0m evaluate_addperceptron_2(\u001b[38;5;124m\"\u001b[39m\u001b[38;5;124mnews20.binary\u001b[39m\u001b[38;5;124m\"\u001b[39m, \u001b[38;5;124m\"\u001b[39m\u001b[38;5;124mnews20\u001b[39m\u001b[38;5;124m\"\u001b[39m)\n",
      "\u001b[0;31mNameError\u001b[0m: name 'evaluate_addperceptron_2' is not defined"
     ]
    }
   ],
   "source": [
    "evaluate_addperceptron_2(\"news20.binary\", \"news20\")"
   ]
  },
  {
   "cell_type": "markdown",
   "metadata": {},
   "source": [
    "Running function to plot the accuracy scores in Neptune for Add Neural Network:"
   ]
  },
  {
   "cell_type": "code",
   "execution_count": null,
   "metadata": {},
   "outputs": [],
   "source": [
    "evaluate_addmlp_2(\"news20.binary\", \"news20\")"
   ]
  },
  {
   "cell_type": "markdown",
   "metadata": {},
   "source": [
    "# IMDB Dataset"
   ]
  },
  {
   "cell_type": "markdown",
   "metadata": {},
   "source": [
    "Load the data and organize it by test and train. Also, clean up the data:"
   ]
  },
  {
   "cell_type": "code",
   "execution_count": null,
   "metadata": {},
   "outputs": [],
   "source": [
    "def load_svmlib_file(filename, featfunc = lambda x: x, classfunc = lambda x: x):\n",
    "    \"\"\"Loads SVMLIB format file and modifies classes or feature values.\n",
    "       Can't use sklearn.datasets.load_svmlight_file since it has no callbacks.\"\"\"\n",
    "    lines = [l.strip().split() for l in open(filename)]\n",
    "    Xs = [{int(fvs.split(\":\")[0]):featfunc(int(fvs.split(\":\")[1])) for fvs in line[1:]} for line in lines]\n",
    "    ys = [classfunc(int(l[0])) for l in lines]\n",
    "    return Xs, ys\n",
    "\n",
    "# In IMDB task, class > 4 is considered positive, <= 4 negative\n",
    "trainXs, trainy = load_svmlib_file(\"train/labeledBow.feat\", featfunc = lambda x: 1 if x > 0 else 0, \\\n",
    "                          classfunc = lambda x: 1 if x > 4 else 0)\n",
    "vectorizer = DictVectorizer(sparse = True) # Initialize vectorizer\n",
    "\n",
    "trainX = vectorizer.fit_transform(trainXs) # Transform dicts to feature vectors\n",
    "testXs, testy = load_svmlib_file(\"test/labeledBow.feat\", featfunc = lambda x: 1 if x > 0 else 0,\\\n",
    "                                 classfunc = lambda x: 1 if x > 4 else 0)\n",
    "testX = vectorizer.transform(testXs)"
   ]
  },
  {
   "cell_type": "markdown",
   "metadata": {},
   "source": [
    "Normal SVM:"
   ]
  },
  {
   "cell_type": "code",
   "execution_count": null,
   "metadata": {},
   "outputs": [],
   "source": [
    "clfs = svm.LinearSVC() \n",
    "clfs.fit(train,X trainy)                \n",
    "\n",
    "print(\"Classification accuracy:\", accuracy_score(testy, clfs.predict(testX)))"
   ]
  },
  {
   "cell_type": "markdown",
   "metadata": {},
   "source": [
    "AddSVM:"
   ]
  },
  {
   "cell_type": "code",
   "execution_count": null,
   "metadata": {},
   "outputs": [],
   "source": [
    "clfv = AddSVM() \n",
    "clfv.fit(X_train, y_train)                \n",
    "\n",
    "print(\"Classification accuracy:\", accuracy_score(y_test, clfv.predict(vectorizer.transform(X_test))))"
   ]
  },
  {
   "cell_type": "markdown",
   "metadata": {},
   "source": [
    "Normal Logistic Regression:"
   ]
  },
  {
   "cell_type": "code",
   "execution_count": null,
   "metadata": {},
   "outputs": [],
   "source": [
    "clfl = SGDClassifier(loss='log_loss', penalty=None) \n",
    "clfl.fit(X_train, y_train)                \n",
    "\n",
    "print(\"Classification accuracy:\", accuracy_score(y_test, clfl.predict(vectorizer.transform(X_test))))"
   ]
  },
  {
   "cell_type": "markdown",
   "metadata": {},
   "source": [
    "AddLogRegression:"
   ]
  },
  {
   "cell_type": "code",
   "execution_count": null,
   "metadata": {},
   "outputs": [],
   "source": [
    "clfr = AddLogRegression() \n",
    "clfr.fit(X_train, y_train)                \n",
    "\n",
    "print(\"Classification accuracy:\", accuracy_score(y_test, clfr.predict(vectorizer.transform(X_test))))"
   ]
  },
  {
   "cell_type": "markdown",
   "metadata": {},
   "source": [
    "Normal Perceptron:"
   ]
  },
  {
   "cell_type": "code",
   "execution_count": 46,
   "metadata": {
    "tags": []
   },
   "outputs": [
    {
     "name": "stdout",
     "output_type": "stream",
     "text": [
      "Accuracy: 0.85176\n"
     ]
    }
   ],
   "source": [
    "clfp = Perceptron() \n",
    "clfp.fit(train,X trainy)                \n",
    "\n",
    "print(\"Classification accuracy:\", accuracy_score(testy, clfp.predict(testX)))"
   ]
  },
  {
   "cell_type": "markdown",
   "metadata": {},
   "source": [
    "Add Perceptron:"
   ]
  },
  {
   "cell_type": "code",
   "execution_count": null,
   "metadata": {},
   "outputs": [],
   "source": [
    "clfa = AddPerceptron() \n",
    "clfa.fit(train,X trainy)                \n",
    "\n",
    "print(\"Classification accuracy:\", accuracy_score(testy, clfa.predict(testX)))"
   ]
  },
  {
   "cell_type": "markdown",
   "metadata": {},
   "source": [
    "Normal Neural Network:"
   ]
  },
  {
   "cell_type": "code",
   "execution_count": null,
   "metadata": {},
   "outputs": [],
   "source": [
    "clf = MLPClassifier(hidden_layer_sizes=(100,50)) \n",
    "clf.fit(train,X trainy)                \n",
    "\n",
    "print(\"Classification accuracy:\", accuracy_score(testy, clf.predict(testX)))"
   ]
  },
  {
   "cell_type": "markdown",
   "metadata": {},
   "source": [
    "AddNeuralNetwork:"
   ]
  },
  {
   "cell_type": "code",
   "execution_count": null,
   "metadata": {},
   "outputs": [],
   "source": [
    "clfm = AddMLPClassifier(hidden_layer_sizes=(100,50)) \n",
    "clfm.fit(train,X trainy)                \n",
    "\n",
    "print(\"Classification accuracy:\", accuracy_score(testy, clfm.predict(testX)))"
   ]
  },
  {
   "cell_type": "markdown",
   "metadata": {},
   "source": [
    "Plotting the Accuracy Scores for Add Perceptron:"
   ]
  },
  {
   "cell_type": "code",
   "execution_count": null,
   "metadata": {},
   "outputs": [],
   "source": [
    "accuracy_scores = []\n",
    "\n",
    "for _ in range(20):  \n",
    "    clf = AddPerceptron()  \n",
    "    clf.fit(X_train, y_train)\n",
    "    guesses = clf.predict(vectorizer.transform(X_test))\n",
    "    accuracy = accuracy_score(y_test, guesses)\n",
    "    accuracy_scores.append(accuracy)\n",
    "    \n",
    "# Create a violin plot for training and test accuracies\n",
    "plt.figure(figsize=(12, 6))\n",
    "sns.violinplot(data=accuracy_scores)\n",
    "plt.title('Violin Plot of Test Accuracy Scores for Multiple Runs')\n",
    "plt.ylabel('Accuracy Score')\n",
    "plt.show()"
   ]
  },
  {
   "cell_type": "markdown",
   "metadata": {},
   "source": [
    "Running function to plot the accuracy scores in Neptune for Add Perceptron:"
   ]
  },
  {
   "cell_type": "code",
   "execution_count": 51,
   "metadata": {
    "tags": []
   },
   "outputs": [
    {
     "name": "stdout",
     "output_type": "stream",
     "text": [
      "[neptune] [info   ] Neptune initialized. Open in the app: https://app.neptune.ai/lmrose5522/Perceptron-Training/e/PER-36\n",
      "Accuracy: 0.85176\n",
      "[neptune] [info   ] Shutting down background jobs, please wait a moment...\n",
      "[neptune] [info   ] Done!\n",
      "[neptune] [info   ] Waiting for the remaining 177 operations to synchronize with Neptune. Do not kill this process.\n",
      "[neptune] [info   ] All 177 operations synced, thanks for waiting!\n",
      "[neptune] [info   ] Explore the metadata in the Neptune app: https://app.neptune.ai/lmrose5522/Perceptron-Training/e/PER-36/metadata\n"
     ]
    }
   ],
   "source": [
    "evaluate_addperceptron_2(\"train/labeledBow.feat\", \"train/labeledBow.feat\", \"imdb\")"
   ]
  },
  {
   "cell_type": "markdown",
   "metadata": {},
   "source": [
    "Running function to plot the accuracy scores in Neptune for Add Neural Network:"
   ]
  },
  {
   "cell_type": "code",
   "execution_count": null,
   "metadata": {},
   "outputs": [],
   "source": [
    "evaluate_addmlp_2(\"train/labeledBow.feat\", \"train/labeledBow.feat\", \"imdb\")"
   ]
  },
  {
   "cell_type": "markdown",
   "metadata": {
    "tags": []
   },
   "source": [
    "# Testing Neural Network Averaging Formula"
   ]
  },
  {
   "cell_type": "code",
   "execution_count": 59,
   "metadata": {},
   "outputs": [
    {
     "name": "stdout",
     "output_type": "stream",
     "text": [
      "[[51.5 81.  81.5 38.  34.5]\n",
      " [35.  57.5 53.  56.5 48.5]\n",
      " [41.5 70.5 20.5 50.  70. ]\n",
      " [59.5 38.  52.5 31.  50.5]\n",
      " [58.5 61.5 60.  51.5 43. ]]\n",
      "3\n",
      "[[42.66666667 68.33333333 76.         51.         54.        ]\n",
      " [53.66666667 66.33333333 55.66666667 57.         53.66666667]\n",
      " [31.66666667 61.         32.33333333 63.66666667 59.66666667]\n",
      " [57.33333333 35.         41.         49.         58.        ]\n",
      " [54.66666667 52.66666667 47.33333333 40.66666667 58.        ]]\n"
     ]
    }
   ],
   "source": [
    "matrix_1 = np.array([\n",
    "        [71, 95, 75, 2, 30],\n",
    "        [26, 93, 52, 94, 25],\n",
    "        [33, 78, 12, 53, 48],\n",
    "        [49, 45, 21, 7, 90],\n",
    "        [37, 55, 97, 67, 45]\n",
    "    ])\n",
    "\n",
    "matrix_2 = np.array([\n",
    "        [32, 67, 88, 74, 39],\n",
    "        [44, 22, 54, 19, 72],\n",
    "        [50, 63, 29, 47, 92],\n",
    "        [70, 31, 84, 55, 11],\n",
    "        [80, 68, 23, 36, 41]\n",
    "    ])\n",
    "\n",
    "matrix_3 = np.array([\n",
    "        [25, 43, 65, 77, 93],\n",
    "        [91, 84, 61, 58, 64],\n",
    "        [12, 42, 56, 91, 39],\n",
    "        [53, 29, 18, 85, 73],\n",
    "        [47, 35, 22, 19, 88]\n",
    "    ])\n",
    "\n",
    "matrix_1 = matrix_1.astype(float)\n",
    "\n",
    "N = 2\n",
    "\n",
    "\n",
    "for j in range(len(matrix_1)):\n",
    "    matrix_1[j] += (matrix_2[j] - matrix_1[j]) / N\n",
    "N += 1\n",
    "    \n",
    "print(matrix_1)   \n",
    "print(N)\n",
    "    \n",
    "for i in range(len(matrix_1)):\n",
    "    matrix_1[i] += (matrix_3[i] - matrix_1[i]) / N\n",
    "    \n",
    "\n",
    "print(matrix_1)"
   ]
  }
 ],
 "metadata": {
  "kernelspec": {
   "display_name": "Python 3 (ipykernel)",
   "language": "python",
   "name": "python3"
  },
  "language_info": {
   "codemirror_mode": {
    "name": "ipython",
    "version": 3
   },
   "file_extension": ".py",
   "mimetype": "text/x-python",
   "name": "python",
   "nbconvert_exporter": "python",
   "pygments_lexer": "ipython3",
   "version": "3.11.4"
  }
 },
 "nbformat": 4,
 "nbformat_minor": 4
}
